{
 "cells": [
  {
   "cell_type": "markdown",
   "metadata": {},
   "source": [
    "# ZOMATO DATA ANALYSIS\n",
    "\n",
    "I got the very interesting zomato data for the city Pune, we have lots of features telling lots of stories about the food habits in pune.\n",
    "I am curious to know the answers of some of the questions like...\n",
    "\n",
    "\n",
    "<b>\n",
    "    \n",
    "Ques-1 Which are the best rated restaurants in Pune?\n",
    "\n",
    "Ques-2 Which is the best rated location for food in Pune?\n",
    "\n",
    "Ques-3 What is most liked cuisine in Pune?\n",
    "\n",
    "Ques-4 Which are the cheap but best restaurants in Pune?\n",
    "\n",
    "Ques-5 Which restaurant serves the best \"BIRYANI\" in Pune?\n",
    "\n",
    "Ques-6 Baner being my favourite place in Pune, Which are the best restaurants in Baner?\n",
    "    \n",
    "</b>\n",
    "\n",
    "and so many other questions i have...\n",
    "    \n",
    "\n",
    "\n",
    "\n",
    "Lets explore this data and try to find the answers of these questions...\n"
   ]
  },
  {
   "cell_type": "code",
   "execution_count": 1,
   "metadata": {},
   "outputs": [],
   "source": [
    "#importing libraries\n",
    "import numpy as np \n",
    "import pandas as pd # data processing, CSV file I/O (e.g. pd.read_csv)\n",
    "import seaborn as sns\n",
    "import matplotlib.pyplot as plt\n",
    "\n"
   ]
  },
  {
   "cell_type": "code",
   "execution_count": 2,
   "metadata": {},
   "outputs": [],
   "source": [
    "#removing warnings\n",
    "import warnings\n",
    "warnings.filterwarnings('ignore')"
   ]
  },
  {
   "cell_type": "code",
   "execution_count": 3,
   "metadata": {
    "scrolled": true
   },
   "outputs": [
    {
     "data": {
      "text/html": [
       "<div>\n",
       "<style scoped>\n",
       "    .dataframe tbody tr th:only-of-type {\n",
       "        vertical-align: middle;\n",
       "    }\n",
       "\n",
       "    .dataframe tbody tr th {\n",
       "        vertical-align: top;\n",
       "    }\n",
       "\n",
       "    .dataframe thead th {\n",
       "        text-align: right;\n",
       "    }\n",
       "</style>\n",
       "<table border=\"1\" class=\"dataframe\">\n",
       "  <thead>\n",
       "    <tr style=\"text-align: right;\">\n",
       "      <th></th>\n",
       "      <th>link</th>\n",
       "      <th>rest_name</th>\n",
       "      <th>rest_type</th>\n",
       "      <th>loc</th>\n",
       "      <th>dine_rating</th>\n",
       "      <th>dine_reviews</th>\n",
       "      <th>delivery_rating</th>\n",
       "      <th>delivery_reviews</th>\n",
       "      <th>cuisine</th>\n",
       "      <th>Unnamed: 9</th>\n",
       "      <th>Cost (RS)</th>\n",
       "      <th>cost</th>\n",
       "      <th>liked</th>\n",
       "    </tr>\n",
       "  </thead>\n",
       "  <tbody>\n",
       "    <tr>\n",
       "      <th>5428</th>\n",
       "      <td>https://www.zomato.com/pune/murli-pure-veg-1-s...</td>\n",
       "      <td>Murli Pure Veg\\r\\n                            ...</td>\n",
       "      <td>Casual Dining</td>\n",
       "      <td>Sinhgad Road</td>\n",
       "      <td>3.1</td>\n",
       "      <td>-22</td>\n",
       "      <td>3.5</td>\n",
       "      <td>-253</td>\n",
       "      <td>South Indian,Chinese,North Indian,</td>\n",
       "      <td>NaN</td>\n",
       "      <td>550</td>\n",
       "      <td>Rs. 550</td>\n",
       "      <td>NaN</td>\n",
       "    </tr>\n",
       "    <tr>\n",
       "      <th>5429</th>\n",
       "      <td>https://www.zomato.com/pune/the-irani-cafe-res...</td>\n",
       "      <td>The Irani Cafe Restaurant\\r\\n                 ...</td>\n",
       "      <td>Casual Dining</td>\n",
       "      <td>Viman Nagar</td>\n",
       "      <td>2.9</td>\n",
       "      <td>(80 Reviews)</td>\n",
       "      <td>NaN</td>\n",
       "      <td>NaN</td>\n",
       "      <td>Mughlai,Iranian,</td>\n",
       "      <td>NaN</td>\n",
       "      <td>800</td>\n",
       "      <td>Rs. 800</td>\n",
       "      <td>Naan, Mutton Keema, Dum Biryani, Irani Chai, B...</td>\n",
       "    </tr>\n",
       "    <tr>\n",
       "      <th>5430</th>\n",
       "      <td>https://www.zomato.com/pune/hotel-shilpa-gavra...</td>\n",
       "      <td>Hotel Shilpa Gavran\\r\\n                       ...</td>\n",
       "      <td>Casual Dining</td>\n",
       "      <td>Pimpri</td>\n",
       "      <td>3.8</td>\n",
       "      <td>(90 Reviews)</td>\n",
       "      <td>NaN</td>\n",
       "      <td>NaN</td>\n",
       "      <td>Chinese,Fast Food,North Indian,</td>\n",
       "      <td>NaN</td>\n",
       "      <td>500</td>\n",
       "      <td>Rs. 500</td>\n",
       "      <td>Mutton Thali, Chicken Sukha</td>\n",
       "    </tr>\n",
       "    <tr>\n",
       "      <th>5431</th>\n",
       "      <td>https://www.zomato.com/pune/mh-12-pav-bhaji-ju...</td>\n",
       "      <td>MH 12 Pav Bhaji &amp; Juice Center\\r\\n            ...</td>\n",
       "      <td>Quick Bites</td>\n",
       "      <td>Sadashiv Peth</td>\n",
       "      <td>3.1</td>\n",
       "      <td>-24</td>\n",
       "      <td>3.1</td>\n",
       "      <td>-439</td>\n",
       "      <td>Beverages,Chinese,Street Food,Fast Food,</td>\n",
       "      <td>NaN</td>\n",
       "      <td>250</td>\n",
       "      <td>Rs. 250</td>\n",
       "      <td>NaN</td>\n",
       "    </tr>\n",
       "    <tr>\n",
       "      <th>5432</th>\n",
       "      <td>https://www.zomato.com/pune/liyo-china-bt-kawa...</td>\n",
       "      <td>Liyo China\\r\\n                                ...</td>\n",
       "      <td>Casual Dining</td>\n",
       "      <td>B.T. Kawade Road</td>\n",
       "      <td>3.6</td>\n",
       "      <td>-97</td>\n",
       "      <td>3.8</td>\n",
       "      <td>-365</td>\n",
       "      <td>Thai,Chinese,</td>\n",
       "      <td>NaN</td>\n",
       "      <td>500</td>\n",
       "      <td>Rs. 500</td>\n",
       "      <td>Noodle</td>\n",
       "    </tr>\n",
       "  </tbody>\n",
       "</table>\n",
       "</div>"
      ],
      "text/plain": [
       "                                                   link  \\\n",
       "5428  https://www.zomato.com/pune/murli-pure-veg-1-s...   \n",
       "5429  https://www.zomato.com/pune/the-irani-cafe-res...   \n",
       "5430  https://www.zomato.com/pune/hotel-shilpa-gavra...   \n",
       "5431  https://www.zomato.com/pune/mh-12-pav-bhaji-ju...   \n",
       "5432  https://www.zomato.com/pune/liyo-china-bt-kawa...   \n",
       "\n",
       "                                              rest_name      rest_type  \\\n",
       "5428  Murli Pure Veg\\r\\n                            ...  Casual Dining   \n",
       "5429  The Irani Cafe Restaurant\\r\\n                 ...  Casual Dining   \n",
       "5430  Hotel Shilpa Gavran\\r\\n                       ...  Casual Dining   \n",
       "5431  MH 12 Pav Bhaji & Juice Center\\r\\n            ...    Quick Bites   \n",
       "5432  Liyo China\\r\\n                                ...  Casual Dining   \n",
       "\n",
       "                   loc  dine_rating  dine_reviews  delivery_rating  \\\n",
       "5428      Sinhgad Road          3.1           -22              3.5   \n",
       "5429       Viman Nagar          2.9  (80 Reviews)              NaN   \n",
       "5430            Pimpri          3.8  (90 Reviews)              NaN   \n",
       "5431     Sadashiv Peth          3.1           -24              3.1   \n",
       "5432  B.T. Kawade Road          3.6           -97              3.8   \n",
       "\n",
       "     delivery_reviews                                   cuisine  Unnamed: 9  \\\n",
       "5428             -253        South Indian,Chinese,North Indian,         NaN   \n",
       "5429              NaN                          Mughlai,Iranian,         NaN   \n",
       "5430              NaN           Chinese,Fast Food,North Indian,         NaN   \n",
       "5431             -439  Beverages,Chinese,Street Food,Fast Food,         NaN   \n",
       "5432             -365                             Thai,Chinese,         NaN   \n",
       "\n",
       "      Cost (RS)     cost                                              liked  \n",
       "5428        550  Rs. 550                                                NaN  \n",
       "5429        800  Rs. 800  Naan, Mutton Keema, Dum Biryani, Irani Chai, B...  \n",
       "5430        500  Rs. 500                        Mutton Thali, Chicken Sukha  \n",
       "5431        250  Rs. 250                                                NaN  \n",
       "5432        500  Rs. 500                                             Noodle  "
      ]
     },
     "execution_count": 3,
     "metadata": {},
     "output_type": "execute_result"
    }
   ],
   "source": [
    "#loading the csv file\n",
    "df= pd.read_csv(\"zomato_outlet_final (11) (1).csv\")\n",
    "df.tail()#it will give you the last 5 rows"
   ]
  },
  {
   "cell_type": "code",
   "execution_count": 38,
   "metadata": {},
   "outputs": [
    {
     "data": {
      "text/html": [
       "<div>\n",
       "<style scoped>\n",
       "    .dataframe tbody tr th:only-of-type {\n",
       "        vertical-align: middle;\n",
       "    }\n",
       "\n",
       "    .dataframe tbody tr th {\n",
       "        vertical-align: top;\n",
       "    }\n",
       "\n",
       "    .dataframe thead th {\n",
       "        text-align: right;\n",
       "    }\n",
       "</style>\n",
       "<table border=\"1\" class=\"dataframe\">\n",
       "  <thead>\n",
       "    <tr style=\"text-align: right;\">\n",
       "      <th></th>\n",
       "      <th>link</th>\n",
       "      <th>rest_name</th>\n",
       "      <th>rest_type</th>\n",
       "      <th>loc</th>\n",
       "      <th>dine_rating</th>\n",
       "      <th>dine_reviews</th>\n",
       "      <th>delivery_rating</th>\n",
       "      <th>delivery_reviews</th>\n",
       "      <th>cuisine</th>\n",
       "      <th>Unnamed: 9</th>\n",
       "      <th>Cost (RS)</th>\n",
       "      <th>cost</th>\n",
       "      <th>liked</th>\n",
       "    </tr>\n",
       "  </thead>\n",
       "  <tbody>\n",
       "    <tr>\n",
       "      <th>0</th>\n",
       "      <td>https://www.zomato.com/pune/mix@36-the-westin-...</td>\n",
       "      <td>Mix@36 - The Westin\\r\\r\\n                     ...</td>\n",
       "      <td>Lounge</td>\n",
       "      <td>The Westin, Mundhwa</td>\n",
       "      <td>4.2</td>\n",
       "      <td>(707 Reviews)</td>\n",
       "      <td>NaN</td>\n",
       "      <td>NaN</td>\n",
       "      <td>North Indian,Continental,Asian,Finger Food,</td>\n",
       "      <td>NaN</td>\n",
       "      <td>4300</td>\n",
       "      <td>Rs. 4300</td>\n",
       "      <td>Cocktails, Chaat, Beer</td>\n",
       "    </tr>\n",
       "    <tr>\n",
       "      <th>1</th>\n",
       "      <td>https://www.zomato.com/pune/kangan-the-westin-...</td>\n",
       "      <td>Kangan - The Westin\\r\\r\\n                     ...</td>\n",
       "      <td>Fine Dining</td>\n",
       "      <td>The Westin, Mundhwa</td>\n",
       "      <td>4.1</td>\n",
       "      <td>(344 Reviews)</td>\n",
       "      <td>NaN</td>\n",
       "      <td>NaN</td>\n",
       "      <td>North Indian,Mughlai,</td>\n",
       "      <td>NaN</td>\n",
       "      <td>3500</td>\n",
       "      <td>Rs. 3500</td>\n",
       "      <td>Biryani, Veg Platter, Dal Makhani, Butter Chic...</td>\n",
       "    </tr>\n",
       "    <tr>\n",
       "      <th>2</th>\n",
       "      <td>https://www.zomato.com/pune/coriander-kitchen-...</td>\n",
       "      <td>Coriander Kitchen - Conrad Pune\\r\\r\\n         ...</td>\n",
       "      <td>Fine Dining</td>\n",
       "      <td>Conrad Pune, Bund Garden Road</td>\n",
       "      <td>4.5</td>\n",
       "      <td>(541 Reviews)</td>\n",
       "      <td>NaN</td>\n",
       "      <td>NaN</td>\n",
       "      <td>Mediterranean,Asian,North Indian,</td>\n",
       "      <td>NaN</td>\n",
       "      <td>3200</td>\n",
       "      <td>Rs. 3200</td>\n",
       "      <td>Pasta, Panipuri, Waffles, Pizza, Salad, Chaat,...</td>\n",
       "    </tr>\n",
       "    <tr>\n",
       "      <th>3</th>\n",
       "      <td>https://www.zomato.com/pune/the-market-the-wes...</td>\n",
       "      <td>The Market - The Westin\\r\\r\\n                 ...</td>\n",
       "      <td>Fine Dining</td>\n",
       "      <td>The Westin, Mundhwa</td>\n",
       "      <td>4.0</td>\n",
       "      <td>(55 Reviews)</td>\n",
       "      <td>NaN</td>\n",
       "      <td>NaN</td>\n",
       "      <td>Asian,European,North Indian,</td>\n",
       "      <td>NaN</td>\n",
       "      <td>3200</td>\n",
       "      <td>Rs. 3200</td>\n",
       "      <td>Vanilla Ice Cream, Chaat, Sushi</td>\n",
       "    </tr>\n",
       "    <tr>\n",
       "      <th>4</th>\n",
       "      <td>https://www.zomato.com/pune/vandaag-vivanta-pu...</td>\n",
       "      <td>Vandaag - Vivanta Pune\\r\\r\\n                  ...</td>\n",
       "      <td>Pub,Casual Dining</td>\n",
       "      <td>Vivanta Pune, Hinjewadi</td>\n",
       "      <td>3.9</td>\n",
       "      <td>(113 Reviews)</td>\n",
       "      <td>NaN</td>\n",
       "      <td>NaN</td>\n",
       "      <td>Finger Food,Continental,</td>\n",
       "      <td>NaN</td>\n",
       "      <td>3100</td>\n",
       "      <td>Rs. 3100</td>\n",
       "      <td>Cocktails, Beer, Peri Peri Chicken, Fish, Veg ...</td>\n",
       "    </tr>\n",
       "  </tbody>\n",
       "</table>\n",
       "</div>"
      ],
      "text/plain": [
       "                                                link  \\\n",
       "0  https://www.zomato.com/pune/mix@36-the-westin-...   \n",
       "1  https://www.zomato.com/pune/kangan-the-westin-...   \n",
       "2  https://www.zomato.com/pune/coriander-kitchen-...   \n",
       "3  https://www.zomato.com/pune/the-market-the-wes...   \n",
       "4  https://www.zomato.com/pune/vandaag-vivanta-pu...   \n",
       "\n",
       "                                           rest_name          rest_type  \\\n",
       "0  Mix@36 - The Westin\\r\\r\\n                     ...             Lounge   \n",
       "1  Kangan - The Westin\\r\\r\\n                     ...        Fine Dining   \n",
       "2  Coriander Kitchen - Conrad Pune\\r\\r\\n         ...        Fine Dining   \n",
       "3  The Market - The Westin\\r\\r\\n                 ...        Fine Dining   \n",
       "4  Vandaag - Vivanta Pune\\r\\r\\n                  ...  Pub,Casual Dining   \n",
       "\n",
       "                             loc  dine_rating   dine_reviews  delivery_rating  \\\n",
       "0            The Westin, Mundhwa          4.2  (707 Reviews)              NaN   \n",
       "1            The Westin, Mundhwa          4.1  (344 Reviews)              NaN   \n",
       "2  Conrad Pune, Bund Garden Road          4.5  (541 Reviews)              NaN   \n",
       "3            The Westin, Mundhwa          4.0   (55 Reviews)              NaN   \n",
       "4        Vivanta Pune, Hinjewadi          3.9  (113 Reviews)              NaN   \n",
       "\n",
       "  delivery_reviews                                      cuisine  Unnamed: 9  \\\n",
       "0              NaN  North Indian,Continental,Asian,Finger Food,         NaN   \n",
       "1              NaN                        North Indian,Mughlai,         NaN   \n",
       "2              NaN            Mediterranean,Asian,North Indian,         NaN   \n",
       "3              NaN                 Asian,European,North Indian,         NaN   \n",
       "4              NaN                     Finger Food,Continental,         NaN   \n",
       "\n",
       "   Cost (RS)      cost                                              liked  \n",
       "0       4300  Rs. 4300                             Cocktails, Chaat, Beer  \n",
       "1       3500  Rs. 3500  Biryani, Veg Platter, Dal Makhani, Butter Chic...  \n",
       "2       3200  Rs. 3200  Pasta, Panipuri, Waffles, Pizza, Salad, Chaat,...  \n",
       "3       3200  Rs. 3200                    Vanilla Ice Cream, Chaat, Sushi  \n",
       "4       3100  Rs. 3100  Cocktails, Beer, Peri Peri Chicken, Fish, Veg ...  "
      ]
     },
     "execution_count": 38,
     "metadata": {},
     "output_type": "execute_result"
    }
   ],
   "source": [
    "df.head()"
   ]
  },
  {
   "cell_type": "code",
   "execution_count": 6,
   "metadata": {
    "scrolled": true
   },
   "outputs": [
    {
     "data": {
      "text/html": [
       "<div>\n",
       "<style scoped>\n",
       "    .dataframe tbody tr th:only-of-type {\n",
       "        vertical-align: middle;\n",
       "    }\n",
       "\n",
       "    .dataframe tbody tr th {\n",
       "        vertical-align: top;\n",
       "    }\n",
       "\n",
       "    .dataframe thead th {\n",
       "        text-align: right;\n",
       "    }\n",
       "</style>\n",
       "<table border=\"1\" class=\"dataframe\">\n",
       "  <thead>\n",
       "    <tr style=\"text-align: right;\">\n",
       "      <th></th>\n",
       "      <th>rest_name</th>\n",
       "      <th>rest_type</th>\n",
       "      <th>loc</th>\n",
       "      <th>dine_rating</th>\n",
       "      <th>dine_reviews</th>\n",
       "      <th>delivery_rating</th>\n",
       "      <th>delivery_reviews</th>\n",
       "      <th>cuisine</th>\n",
       "      <th>Cost (RS)</th>\n",
       "      <th>liked</th>\n",
       "    </tr>\n",
       "  </thead>\n",
       "  <tbody>\n",
       "    <tr>\n",
       "      <th>0</th>\n",
       "      <td>Mix@36 - The Westin\\r\\r\\n                     ...</td>\n",
       "      <td>Lounge</td>\n",
       "      <td>The Westin, Mundhwa</td>\n",
       "      <td>4.2</td>\n",
       "      <td>(707 Reviews)</td>\n",
       "      <td>NaN</td>\n",
       "      <td>NaN</td>\n",
       "      <td>North Indian,Continental,Asian,Finger Food,</td>\n",
       "      <td>4300</td>\n",
       "      <td>Cocktails, Chaat, Beer</td>\n",
       "    </tr>\n",
       "    <tr>\n",
       "      <th>1</th>\n",
       "      <td>Kangan - The Westin\\r\\r\\n                     ...</td>\n",
       "      <td>Fine Dining</td>\n",
       "      <td>The Westin, Mundhwa</td>\n",
       "      <td>4.1</td>\n",
       "      <td>(344 Reviews)</td>\n",
       "      <td>NaN</td>\n",
       "      <td>NaN</td>\n",
       "      <td>North Indian,Mughlai,</td>\n",
       "      <td>3500</td>\n",
       "      <td>Biryani, Veg Platter, Dal Makhani, Butter Chic...</td>\n",
       "    </tr>\n",
       "    <tr>\n",
       "      <th>2</th>\n",
       "      <td>Coriander Kitchen - Conrad Pune\\r\\r\\n         ...</td>\n",
       "      <td>Fine Dining</td>\n",
       "      <td>Conrad Pune, Bund Garden Road</td>\n",
       "      <td>4.5</td>\n",
       "      <td>(541 Reviews)</td>\n",
       "      <td>NaN</td>\n",
       "      <td>NaN</td>\n",
       "      <td>Mediterranean,Asian,North Indian,</td>\n",
       "      <td>3200</td>\n",
       "      <td>Pasta, Panipuri, Waffles, Pizza, Salad, Chaat,...</td>\n",
       "    </tr>\n",
       "    <tr>\n",
       "      <th>3</th>\n",
       "      <td>The Market - The Westin\\r\\r\\n                 ...</td>\n",
       "      <td>Fine Dining</td>\n",
       "      <td>The Westin, Mundhwa</td>\n",
       "      <td>4.0</td>\n",
       "      <td>(55 Reviews)</td>\n",
       "      <td>NaN</td>\n",
       "      <td>NaN</td>\n",
       "      <td>Asian,European,North Indian,</td>\n",
       "      <td>3200</td>\n",
       "      <td>Vanilla Ice Cream, Chaat, Sushi</td>\n",
       "    </tr>\n",
       "    <tr>\n",
       "      <th>4</th>\n",
       "      <td>Vandaag - Vivanta Pune\\r\\r\\n                  ...</td>\n",
       "      <td>Pub,Casual Dining</td>\n",
       "      <td>Vivanta Pune, Hinjewadi</td>\n",
       "      <td>3.9</td>\n",
       "      <td>(113 Reviews)</td>\n",
       "      <td>NaN</td>\n",
       "      <td>NaN</td>\n",
       "      <td>Finger Food,Continental,</td>\n",
       "      <td>3100</td>\n",
       "      <td>Cocktails, Beer, Peri Peri Chicken, Fish, Veg ...</td>\n",
       "    </tr>\n",
       "  </tbody>\n",
       "</table>\n",
       "</div>"
      ],
      "text/plain": [
       "                                           rest_name          rest_type  \\\n",
       "0  Mix@36 - The Westin\\r\\r\\n                     ...             Lounge   \n",
       "1  Kangan - The Westin\\r\\r\\n                     ...        Fine Dining   \n",
       "2  Coriander Kitchen - Conrad Pune\\r\\r\\n         ...        Fine Dining   \n",
       "3  The Market - The Westin\\r\\r\\n                 ...        Fine Dining   \n",
       "4  Vandaag - Vivanta Pune\\r\\r\\n                  ...  Pub,Casual Dining   \n",
       "\n",
       "                             loc  dine_rating   dine_reviews  delivery_rating  \\\n",
       "0            The Westin, Mundhwa          4.2  (707 Reviews)              NaN   \n",
       "1            The Westin, Mundhwa          4.1  (344 Reviews)              NaN   \n",
       "2  Conrad Pune, Bund Garden Road          4.5  (541 Reviews)              NaN   \n",
       "3            The Westin, Mundhwa          4.0   (55 Reviews)              NaN   \n",
       "4        Vivanta Pune, Hinjewadi          3.9  (113 Reviews)              NaN   \n",
       "\n",
       "  delivery_reviews                                      cuisine  Cost (RS)  \\\n",
       "0              NaN  North Indian,Continental,Asian,Finger Food,       4300   \n",
       "1              NaN                        North Indian,Mughlai,       3500   \n",
       "2              NaN            Mediterranean,Asian,North Indian,       3200   \n",
       "3              NaN                 Asian,European,North Indian,       3200   \n",
       "4              NaN                     Finger Food,Continental,       3100   \n",
       "\n",
       "                                               liked  \n",
       "0                             Cocktails, Chaat, Beer  \n",
       "1  Biryani, Veg Platter, Dal Makhani, Butter Chic...  \n",
       "2  Pasta, Panipuri, Waffles, Pizza, Salad, Chaat,...  \n",
       "3                    Vanilla Ice Cream, Chaat, Sushi  \n",
       "4  Cocktails, Beer, Peri Peri Chicken, Fish, Veg ...  "
      ]
     },
     "execution_count": 6,
     "metadata": {},
     "output_type": "execute_result"
    }
   ],
   "source": [
    "#removing the unncessary column \"link\"\n",
    "df=df.drop(['link','Unnamed: 9',\"cost\"],axis=1)\n",
    "df.head()\n",
    "\n",
    "#deleting the row. axis=0\n",
    "#deleting the columns, axis=1"
   ]
  },
  {
   "cell_type": "code",
   "execution_count": 40,
   "metadata": {},
   "outputs": [
    {
     "data": {
      "text/html": [
       "<div>\n",
       "<style scoped>\n",
       "    .dataframe tbody tr th:only-of-type {\n",
       "        vertical-align: middle;\n",
       "    }\n",
       "\n",
       "    .dataframe tbody tr th {\n",
       "        vertical-align: top;\n",
       "    }\n",
       "\n",
       "    .dataframe thead th {\n",
       "        text-align: right;\n",
       "    }\n",
       "</style>\n",
       "<table border=\"1\" class=\"dataframe\">\n",
       "  <thead>\n",
       "    <tr style=\"text-align: right;\">\n",
       "      <th></th>\n",
       "      <th>rest_name</th>\n",
       "      <th>rest_type</th>\n",
       "      <th>loc</th>\n",
       "      <th>dine_rating</th>\n",
       "      <th>dine_reviews</th>\n",
       "      <th>delivery_rating</th>\n",
       "      <th>delivery_reviews</th>\n",
       "      <th>cuisine</th>\n",
       "      <th>Cost (RS)</th>\n",
       "      <th>liked</th>\n",
       "    </tr>\n",
       "  </thead>\n",
       "  <tbody>\n",
       "    <tr>\n",
       "      <th>0</th>\n",
       "      <td>Mix@36 - The Westin\\r\\r\\n                     ...</td>\n",
       "      <td>Lounge</td>\n",
       "      <td>The Westin, Mundhwa</td>\n",
       "      <td>4.2</td>\n",
       "      <td>(707 Reviews)</td>\n",
       "      <td>NaN</td>\n",
       "      <td>NaN</td>\n",
       "      <td>North Indian,Continental,Asian,Finger Food,</td>\n",
       "      <td>4300</td>\n",
       "      <td>Cocktails, Chaat, Beer</td>\n",
       "    </tr>\n",
       "    <tr>\n",
       "      <th>1</th>\n",
       "      <td>Kangan - The Westin\\r\\r\\n                     ...</td>\n",
       "      <td>Fine Dining</td>\n",
       "      <td>The Westin, Mundhwa</td>\n",
       "      <td>4.1</td>\n",
       "      <td>(344 Reviews)</td>\n",
       "      <td>NaN</td>\n",
       "      <td>NaN</td>\n",
       "      <td>North Indian,Mughlai,</td>\n",
       "      <td>3500</td>\n",
       "      <td>Biryani, Veg Platter, Dal Makhani, Butter Chic...</td>\n",
       "    </tr>\n",
       "    <tr>\n",
       "      <th>2</th>\n",
       "      <td>Coriander Kitchen - Conrad Pune\\r\\r\\n         ...</td>\n",
       "      <td>Fine Dining</td>\n",
       "      <td>Conrad Pune, Bund Garden Road</td>\n",
       "      <td>4.5</td>\n",
       "      <td>(541 Reviews)</td>\n",
       "      <td>NaN</td>\n",
       "      <td>NaN</td>\n",
       "      <td>Mediterranean,Asian,North Indian,</td>\n",
       "      <td>3200</td>\n",
       "      <td>Pasta, Panipuri, Waffles, Pizza, Salad, Chaat,...</td>\n",
       "    </tr>\n",
       "    <tr>\n",
       "      <th>3</th>\n",
       "      <td>The Market - The Westin\\r\\r\\n                 ...</td>\n",
       "      <td>Fine Dining</td>\n",
       "      <td>The Westin, Mundhwa</td>\n",
       "      <td>4.0</td>\n",
       "      <td>(55 Reviews)</td>\n",
       "      <td>NaN</td>\n",
       "      <td>NaN</td>\n",
       "      <td>Asian,European,North Indian,</td>\n",
       "      <td>3200</td>\n",
       "      <td>Vanilla Ice Cream, Chaat, Sushi</td>\n",
       "    </tr>\n",
       "    <tr>\n",
       "      <th>4</th>\n",
       "      <td>Vandaag - Vivanta Pune\\r\\r\\n                  ...</td>\n",
       "      <td>Pub,Casual Dining</td>\n",
       "      <td>Vivanta Pune, Hinjewadi</td>\n",
       "      <td>3.9</td>\n",
       "      <td>(113 Reviews)</td>\n",
       "      <td>NaN</td>\n",
       "      <td>NaN</td>\n",
       "      <td>Finger Food,Continental,</td>\n",
       "      <td>3100</td>\n",
       "      <td>Cocktails, Beer, Peri Peri Chicken, Fish, Veg ...</td>\n",
       "    </tr>\n",
       "  </tbody>\n",
       "</table>\n",
       "</div>"
      ],
      "text/plain": [
       "                                           rest_name          rest_type  \\\n",
       "0  Mix@36 - The Westin\\r\\r\\n                     ...             Lounge   \n",
       "1  Kangan - The Westin\\r\\r\\n                     ...        Fine Dining   \n",
       "2  Coriander Kitchen - Conrad Pune\\r\\r\\n         ...        Fine Dining   \n",
       "3  The Market - The Westin\\r\\r\\n                 ...        Fine Dining   \n",
       "4  Vandaag - Vivanta Pune\\r\\r\\n                  ...  Pub,Casual Dining   \n",
       "\n",
       "                             loc  dine_rating   dine_reviews  delivery_rating  \\\n",
       "0            The Westin, Mundhwa          4.2  (707 Reviews)              NaN   \n",
       "1            The Westin, Mundhwa          4.1  (344 Reviews)              NaN   \n",
       "2  Conrad Pune, Bund Garden Road          4.5  (541 Reviews)              NaN   \n",
       "3            The Westin, Mundhwa          4.0   (55 Reviews)              NaN   \n",
       "4        Vivanta Pune, Hinjewadi          3.9  (113 Reviews)              NaN   \n",
       "\n",
       "  delivery_reviews                                      cuisine  Cost (RS)  \\\n",
       "0              NaN  North Indian,Continental,Asian,Finger Food,       4300   \n",
       "1              NaN                        North Indian,Mughlai,       3500   \n",
       "2              NaN            Mediterranean,Asian,North Indian,       3200   \n",
       "3              NaN                 Asian,European,North Indian,       3200   \n",
       "4              NaN                     Finger Food,Continental,       3100   \n",
       "\n",
       "                                               liked  \n",
       "0                             Cocktails, Chaat, Beer  \n",
       "1  Biryani, Veg Platter, Dal Makhani, Butter Chic...  \n",
       "2  Pasta, Panipuri, Waffles, Pizza, Salad, Chaat,...  \n",
       "3                    Vanilla Ice Cream, Chaat, Sushi  \n",
       "4  Cocktails, Beer, Peri Peri Chicken, Fish, Veg ...  "
      ]
     },
     "execution_count": 40,
     "metadata": {},
     "output_type": "execute_result"
    }
   ],
   "source": [
    "df.head() #we have removed the unncessary columns from the data."
   ]
  },
  {
   "cell_type": "code",
   "execution_count": 41,
   "metadata": {
    "scrolled": true
   },
   "outputs": [
    {
     "data": {
      "text/plain": [
       "(5433, 10)"
      ]
     },
     "execution_count": 41,
     "metadata": {},
     "output_type": "execute_result"
    }
   ],
   "source": [
    "#we have 5433 restaurats in our data, including small tapris, medium size restaurants,\n",
    "#Bakeries, Dessert Parlours, Cake Shops, Bars, Big Restaurants, Casual Dinings etc.\n",
    "df.shape # this will give you the number of rows and number of columns\n",
    "#how many rows i have, i have 5433 rows and 10 columns..."
   ]
  },
  {
   "cell_type": "code",
   "execution_count": 42,
   "metadata": {
    "scrolled": true
   },
   "outputs": [
    {
     "name": "stdout",
     "output_type": "stream",
     "text": [
      "<class 'pandas.core.frame.DataFrame'>\n",
      "RangeIndex: 5433 entries, 0 to 5432\n",
      "Data columns (total 10 columns):\n",
      " #   Column            Non-Null Count  Dtype  \n",
      "---  ------            --------------  -----  \n",
      " 0   rest_name         5433 non-null   object \n",
      " 1   rest_type         4336 non-null   object \n",
      " 2   loc               5433 non-null   object \n",
      " 3   dine_rating       5433 non-null   float64\n",
      " 4   dine_reviews      4829 non-null   object \n",
      " 5   delivery_rating   2539 non-null   float64\n",
      " 6   delivery_reviews  2539 non-null   object \n",
      " 7   cuisine           5433 non-null   object \n",
      " 8   Cost (RS)         5433 non-null   int64  \n",
      " 9   liked             2603 non-null   object \n",
      "dtypes: float64(2), int64(1), object(7)\n",
      "memory usage: 424.6+ KB\n"
     ]
    }
   ],
   "source": [
    "df.info() #info() function is giving you the information about the non null values in your columns.\n",
    "\n",
    "#5433-4336 null values in rest_type"
   ]
  },
  {
   "cell_type": "code",
   "execution_count": 43,
   "metadata": {},
   "outputs": [
    {
     "data": {
      "text/plain": [
       "rest_name              0\n",
       "rest_type           1097\n",
       "loc                    0\n",
       "dine_rating            0\n",
       "dine_reviews         604\n",
       "delivery_rating     2894\n",
       "delivery_reviews    2894\n",
       "cuisine                0\n",
       "Cost (RS)              0\n",
       "liked               2830\n",
       "dtype: int64"
      ]
     },
     "execution_count": 43,
     "metadata": {},
     "output_type": "execute_result"
    }
   ],
   "source": [
    "df.isnull().sum()\n",
    "#this will give you the sum of null values per column."
   ]
  },
  {
   "cell_type": "markdown",
   "metadata": {},
   "source": [
    "We have some null values in some colums, we will handle them step by step"
   ]
  },
  {
   "cell_type": "code",
   "execution_count": 44,
   "metadata": {},
   "outputs": [
    {
     "data": {
      "text/plain": [
       "250"
      ]
     },
     "execution_count": 44,
     "metadata": {},
     "output_type": "execute_result"
    }
   ],
   "source": [
    "# lets find the duplicates in the data\n",
    "\n",
    "df.duplicated().sum()\n",
    "#A->fc road->3.5\n",
    "#B->fc road->3.5\n",
    "#A->fc road>3.5\n",
    "\n",
    "#first restaurant and third restaurant are duplicates of each other."
   ]
  },
  {
   "cell_type": "code",
   "execution_count": null,
   "metadata": {},
   "outputs": [],
   "source": []
  },
  {
   "cell_type": "code",
   "execution_count": 45,
   "metadata": {},
   "outputs": [
    {
     "data": {
      "text/plain": [
       "(5183, 10)"
      ]
     },
     "execution_count": 45,
     "metadata": {},
     "output_type": "execute_result"
    }
   ],
   "source": [
    "#we have 250 rows which are duplicates, lets remove the duplicate values\n",
    "\n",
    "df=df.drop_duplicates()\n",
    "df.shape\n",
    "\n",
    "#after removing duplicate rows, we got 5183 restaurants in our dataset"
   ]
  },
  {
   "cell_type": "code",
   "execution_count": 12,
   "metadata": {},
   "outputs": [
    {
     "data": {
      "text/plain": [
       "Index(['rest_name', 'rest_type', 'loc', 'dine_rating', 'dine_reviews',\n",
       "       'delivery_rating', 'delivery_reviews', 'cuisine', 'Cost (RS)', 'liked'],\n",
       "      dtype='object')"
      ]
     },
     "execution_count": 12,
     "metadata": {},
     "output_type": "execute_result"
    }
   ],
   "source": [
    "df.columns"
   ]
  },
  {
   "cell_type": "code",
   "execution_count": 47,
   "metadata": {},
   "outputs": [
    {
     "data": {
      "text/html": [
       "<div>\n",
       "<style scoped>\n",
       "    .dataframe tbody tr th:only-of-type {\n",
       "        vertical-align: middle;\n",
       "    }\n",
       "\n",
       "    .dataframe tbody tr th {\n",
       "        vertical-align: top;\n",
       "    }\n",
       "\n",
       "    .dataframe thead th {\n",
       "        text-align: right;\n",
       "    }\n",
       "</style>\n",
       "<table border=\"1\" class=\"dataframe\">\n",
       "  <thead>\n",
       "    <tr style=\"text-align: right;\">\n",
       "      <th></th>\n",
       "      <th>rest_name</th>\n",
       "      <th>rest_type</th>\n",
       "      <th>loc</th>\n",
       "      <th>dine_rating</th>\n",
       "      <th>dine_reviews</th>\n",
       "      <th>delivery_rating</th>\n",
       "      <th>delivery_reviews</th>\n",
       "      <th>cuisine</th>\n",
       "      <th>Cost (RS)</th>\n",
       "      <th>liked</th>\n",
       "    </tr>\n",
       "  </thead>\n",
       "  <tbody>\n",
       "    <tr>\n",
       "      <th>64</th>\n",
       "      <td>Little Italy\\r\\r\\n                            ...</td>\n",
       "      <td>NaN</td>\n",
       "      <td>Kharadi</td>\n",
       "      <td>3.4</td>\n",
       "      <td>(72 Reviews)</td>\n",
       "      <td>NaN</td>\n",
       "      <td>NaN</td>\n",
       "      <td>Mexican,Italian,</td>\n",
       "      <td>200</td>\n",
       "      <td>NaN</td>\n",
       "    </tr>\n",
       "    <tr>\n",
       "      <th>391</th>\n",
       "      <td>Shriniwas Veg\\r\\r\\n                           ...</td>\n",
       "      <td>NaN</td>\n",
       "      <td>Wakad</td>\n",
       "      <td>3.4</td>\n",
       "      <td>(346 Reviews)</td>\n",
       "      <td>NaN</td>\n",
       "      <td>NaN</td>\n",
       "      <td>Fast Food,Chinese,South Indian,North Indian,</td>\n",
       "      <td>500</td>\n",
       "      <td>NaN</td>\n",
       "    </tr>\n",
       "    <tr>\n",
       "      <th>392</th>\n",
       "      <td>Shriniwas Veg\\r\\r\\n                           ...</td>\n",
       "      <td>NaN</td>\n",
       "      <td>Hinjawadi</td>\n",
       "      <td>0.0</td>\n",
       "      <td>NaN</td>\n",
       "      <td>NaN</td>\n",
       "      <td>NaN</td>\n",
       "      <td>Fast Food,Chinese,South Indian,North Indian,</td>\n",
       "      <td>500</td>\n",
       "      <td>NaN</td>\n",
       "    </tr>\n",
       "    <tr>\n",
       "      <th>393</th>\n",
       "      <td>Shriniwas Veg\\r\\r\\n                           ...</td>\n",
       "      <td>NaN</td>\n",
       "      <td>Kothrud</td>\n",
       "      <td>3.4</td>\n",
       "      <td>(92 Reviews)</td>\n",
       "      <td>NaN</td>\n",
       "      <td>NaN</td>\n",
       "      <td>Beverages,Fast Food,South Indian,North Indian,...</td>\n",
       "      <td>400</td>\n",
       "      <td>NaN</td>\n",
       "    </tr>\n",
       "    <tr>\n",
       "      <th>394</th>\n",
       "      <td>Shriniwas Veg\\r\\r\\n                           ...</td>\n",
       "      <td>NaN</td>\n",
       "      <td>Kharadi</td>\n",
       "      <td>2.9</td>\n",
       "      <td>(124 Reviews)</td>\n",
       "      <td>NaN</td>\n",
       "      <td>NaN</td>\n",
       "      <td>Fast Food,Chinese,South Indian,North Indian,</td>\n",
       "      <td>400</td>\n",
       "      <td>NaN</td>\n",
       "    </tr>\n",
       "    <tr>\n",
       "      <th>...</th>\n",
       "      <td>...</td>\n",
       "      <td>...</td>\n",
       "      <td>...</td>\n",
       "      <td>...</td>\n",
       "      <td>...</td>\n",
       "      <td>...</td>\n",
       "      <td>...</td>\n",
       "      <td>...</td>\n",
       "      <td>...</td>\n",
       "      <td>...</td>\n",
       "    </tr>\n",
       "    <tr>\n",
       "      <th>5428</th>\n",
       "      <td>Murli Pure Veg\\r\\n                            ...</td>\n",
       "      <td>Casual Dining</td>\n",
       "      <td>Sinhgad Road</td>\n",
       "      <td>3.1</td>\n",
       "      <td>-22</td>\n",
       "      <td>3.5</td>\n",
       "      <td>-253</td>\n",
       "      <td>South Indian,Chinese,North Indian,</td>\n",
       "      <td>550</td>\n",
       "      <td>NaN</td>\n",
       "    </tr>\n",
       "    <tr>\n",
       "      <th>5429</th>\n",
       "      <td>The Irani Cafe Restaurant\\r\\n                 ...</td>\n",
       "      <td>Casual Dining</td>\n",
       "      <td>Viman Nagar</td>\n",
       "      <td>2.9</td>\n",
       "      <td>(80 Reviews)</td>\n",
       "      <td>NaN</td>\n",
       "      <td>NaN</td>\n",
       "      <td>Mughlai,Iranian,</td>\n",
       "      <td>800</td>\n",
       "      <td>Naan, Mutton Keema, Dum Biryani, Irani Chai, B...</td>\n",
       "    </tr>\n",
       "    <tr>\n",
       "      <th>5430</th>\n",
       "      <td>Hotel Shilpa Gavran\\r\\n                       ...</td>\n",
       "      <td>Casual Dining</td>\n",
       "      <td>Pimpri</td>\n",
       "      <td>3.8</td>\n",
       "      <td>(90 Reviews)</td>\n",
       "      <td>NaN</td>\n",
       "      <td>NaN</td>\n",
       "      <td>Chinese,Fast Food,North Indian,</td>\n",
       "      <td>500</td>\n",
       "      <td>Mutton Thali, Chicken Sukha</td>\n",
       "    </tr>\n",
       "    <tr>\n",
       "      <th>5431</th>\n",
       "      <td>MH 12 Pav Bhaji &amp; Juice Center\\r\\n            ...</td>\n",
       "      <td>Quick Bites</td>\n",
       "      <td>Sadashiv Peth</td>\n",
       "      <td>3.1</td>\n",
       "      <td>-24</td>\n",
       "      <td>3.1</td>\n",
       "      <td>-439</td>\n",
       "      <td>Beverages,Chinese,Street Food,Fast Food,</td>\n",
       "      <td>250</td>\n",
       "      <td>NaN</td>\n",
       "    </tr>\n",
       "    <tr>\n",
       "      <th>5432</th>\n",
       "      <td>Liyo China\\r\\n                                ...</td>\n",
       "      <td>Casual Dining</td>\n",
       "      <td>B.T. Kawade Road</td>\n",
       "      <td>3.6</td>\n",
       "      <td>-97</td>\n",
       "      <td>3.8</td>\n",
       "      <td>-365</td>\n",
       "      <td>Thai,Chinese,</td>\n",
       "      <td>500</td>\n",
       "      <td>Noodle</td>\n",
       "    </tr>\n",
       "  </tbody>\n",
       "</table>\n",
       "<p>4170 rows × 10 columns</p>\n",
       "</div>"
      ],
      "text/plain": [
       "                                              rest_name      rest_type  \\\n",
       "64    Little Italy\\r\\r\\n                            ...            NaN   \n",
       "391   Shriniwas Veg\\r\\r\\n                           ...            NaN   \n",
       "392   Shriniwas Veg\\r\\r\\n                           ...            NaN   \n",
       "393   Shriniwas Veg\\r\\r\\n                           ...            NaN   \n",
       "394   Shriniwas Veg\\r\\r\\n                           ...            NaN   \n",
       "...                                                 ...            ...   \n",
       "5428  Murli Pure Veg\\r\\n                            ...  Casual Dining   \n",
       "5429  The Irani Cafe Restaurant\\r\\n                 ...  Casual Dining   \n",
       "5430  Hotel Shilpa Gavran\\r\\n                       ...  Casual Dining   \n",
       "5431  MH 12 Pav Bhaji & Juice Center\\r\\n            ...    Quick Bites   \n",
       "5432  Liyo China\\r\\n                                ...  Casual Dining   \n",
       "\n",
       "                   loc  dine_rating   dine_reviews  delivery_rating  \\\n",
       "64             Kharadi          3.4   (72 Reviews)              NaN   \n",
       "391              Wakad          3.4  (346 Reviews)              NaN   \n",
       "392          Hinjawadi          0.0            NaN              NaN   \n",
       "393            Kothrud          3.4   (92 Reviews)              NaN   \n",
       "394            Kharadi          2.9  (124 Reviews)              NaN   \n",
       "...                ...          ...            ...              ...   \n",
       "5428      Sinhgad Road          3.1            -22              3.5   \n",
       "5429       Viman Nagar          2.9   (80 Reviews)              NaN   \n",
       "5430            Pimpri          3.8   (90 Reviews)              NaN   \n",
       "5431     Sadashiv Peth          3.1            -24              3.1   \n",
       "5432  B.T. Kawade Road          3.6            -97              3.8   \n",
       "\n",
       "     delivery_reviews                                            cuisine  \\\n",
       "64                NaN                                   Mexican,Italian,   \n",
       "391               NaN       Fast Food,Chinese,South Indian,North Indian,   \n",
       "392               NaN       Fast Food,Chinese,South Indian,North Indian,   \n",
       "393               NaN  Beverages,Fast Food,South Indian,North Indian,...   \n",
       "394               NaN       Fast Food,Chinese,South Indian,North Indian,   \n",
       "...               ...                                                ...   \n",
       "5428             -253                 South Indian,Chinese,North Indian,   \n",
       "5429              NaN                                   Mughlai,Iranian,   \n",
       "5430              NaN                    Chinese,Fast Food,North Indian,   \n",
       "5431             -439           Beverages,Chinese,Street Food,Fast Food,   \n",
       "5432             -365                                      Thai,Chinese,   \n",
       "\n",
       "      Cost (RS)                                              liked  \n",
       "64          200                                                NaN  \n",
       "391         500                                                NaN  \n",
       "392         500                                                NaN  \n",
       "393         400                                                NaN  \n",
       "394         400                                                NaN  \n",
       "...         ...                                                ...  \n",
       "5428        550                                                NaN  \n",
       "5429        800  Naan, Mutton Keema, Dum Biryani, Irani Chai, B...  \n",
       "5430        500                        Mutton Thali, Chicken Sukha  \n",
       "5431        250                                                NaN  \n",
       "5432        500                                             Noodle  \n",
       "\n",
       "[4170 rows x 10 columns]"
      ]
     },
     "execution_count": 47,
     "metadata": {},
     "output_type": "execute_result"
    }
   ],
   "source": [
    "#give me the restaurants which serves <1000\n",
    "\n",
    "\n",
    "new_df=df[df[\"Cost (RS)\"]<1000] #you are selecting only those rows \n",
    "                                #which have cost<1000\n",
    "#go inside df and return all redtaurant which have cost<1000\n",
    "new_df\n"
   ]
  },
  {
   "cell_type": "code",
   "execution_count": 10,
   "metadata": {},
   "outputs": [
    {
     "data": {
      "text/html": [
       "<div>\n",
       "<style scoped>\n",
       "    .dataframe tbody tr th:only-of-type {\n",
       "        vertical-align: middle;\n",
       "    }\n",
       "\n",
       "    .dataframe tbody tr th {\n",
       "        vertical-align: top;\n",
       "    }\n",
       "\n",
       "    .dataframe thead th {\n",
       "        text-align: right;\n",
       "    }\n",
       "</style>\n",
       "<table border=\"1\" class=\"dataframe\">\n",
       "  <thead>\n",
       "    <tr style=\"text-align: right;\">\n",
       "      <th></th>\n",
       "      <th>rest_name</th>\n",
       "      <th>rest_type</th>\n",
       "      <th>loc</th>\n",
       "      <th>dine_rating</th>\n",
       "      <th>dine_reviews</th>\n",
       "      <th>delivery_rating</th>\n",
       "      <th>delivery_reviews</th>\n",
       "      <th>cuisine</th>\n",
       "      <th>Cost (RS)</th>\n",
       "      <th>liked</th>\n",
       "    </tr>\n",
       "  </thead>\n",
       "  <tbody>\n",
       "    <tr>\n",
       "      <th>58</th>\n",
       "      <td>Effingut\\r\\r\\n                                ...</td>\n",
       "      <td>Pub</td>\n",
       "      <td>Baner</td>\n",
       "      <td>4.7</td>\n",
       "      <td>-2,894</td>\n",
       "      <td>4.5</td>\n",
       "      <td>-649</td>\n",
       "      <td>Asian,Italian,Mughlai,North Indian,Continental,</td>\n",
       "      <td>2000</td>\n",
       "      <td>Apple Cider, Craft Beer, Nachos, Cocktails, Bu...</td>\n",
       "    </tr>\n",
       "    <tr>\n",
       "      <th>72</th>\n",
       "      <td>The K Factory\\r\\r\\n                           ...</td>\n",
       "      <td>Casual Dining,Lounge</td>\n",
       "      <td>Baner</td>\n",
       "      <td>4.6</td>\n",
       "      <td>-3,742</td>\n",
       "      <td>3.9</td>\n",
       "      <td>-252</td>\n",
       "      <td>Beverages,Biryani,Charcoal Chicken,Salad,Desse...</td>\n",
       "      <td>2000</td>\n",
       "      <td>Pasta, Salad, Cheesecake, Cocktails, Pizza, Pe...</td>\n",
       "    </tr>\n",
       "    <tr>\n",
       "      <th>120</th>\n",
       "      <td>Mr Rabbit's Bar &amp; Burrow\\r\\r\\n                ...</td>\n",
       "      <td>Bar,Casual Dining</td>\n",
       "      <td>Baner</td>\n",
       "      <td>4.5</td>\n",
       "      <td>(633 Reviews)</td>\n",
       "      <td>NaN</td>\n",
       "      <td>NaN</td>\n",
       "      <td>South Indian,European,Continental,Finger Food,</td>\n",
       "      <td>1800</td>\n",
       "      <td>Cocktails, Tiramisu, Ravioli, Beer, Murgh Ghee...</td>\n",
       "    </tr>\n",
       "    <tr>\n",
       "      <th>142</th>\n",
       "      <td>Urbo\\r\\r\\n</td>\n",
       "      <td>Lounge,Casual Dining</td>\n",
       "      <td>Baner</td>\n",
       "      <td>4.2</td>\n",
       "      <td>(952 Reviews)</td>\n",
       "      <td>NaN</td>\n",
       "      <td>NaN</td>\n",
       "      <td>North Indian,Continental,</td>\n",
       "      <td>1700</td>\n",
       "      <td>Pizza, Cocktails, Mocktails, Brownie, Paneer T...</td>\n",
       "    </tr>\n",
       "    <tr>\n",
       "      <th>166</th>\n",
       "      <td>The Urban Foundry\\r\\r\\n                       ...</td>\n",
       "      <td>Bar,Casual Dining</td>\n",
       "      <td>Baner</td>\n",
       "      <td>4.6</td>\n",
       "      <td>(3,912 Reviews)</td>\n",
       "      <td>NaN</td>\n",
       "      <td>NaN</td>\n",
       "      <td>Fast Food,Asian,North Indian,Bar Food,</td>\n",
       "      <td>1600</td>\n",
       "      <td>Cocktails, Pizza, Beer, Soya Chaap, Mocktails,...</td>\n",
       "    </tr>\n",
       "    <tr>\n",
       "      <th>...</th>\n",
       "      <td>...</td>\n",
       "      <td>...</td>\n",
       "      <td>...</td>\n",
       "      <td>...</td>\n",
       "      <td>...</td>\n",
       "      <td>...</td>\n",
       "      <td>...</td>\n",
       "      <td>...</td>\n",
       "      <td>...</td>\n",
       "      <td>...</td>\n",
       "    </tr>\n",
       "    <tr>\n",
       "      <th>5386</th>\n",
       "      <td>I'm Lion, Strictly Non-Veg\\r\\n                ...</td>\n",
       "      <td>Casual Dining</td>\n",
       "      <td>Baner</td>\n",
       "      <td>4.2</td>\n",
       "      <td>-271</td>\n",
       "      <td>4.0</td>\n",
       "      <td>-355</td>\n",
       "      <td>Konkan,Seafood,Goan,Mangalorean,</td>\n",
       "      <td>800</td>\n",
       "      <td>Sea Food, Neer Dosa, Sol Kadhi, Fry Prawns, Su...</td>\n",
       "    </tr>\n",
       "    <tr>\n",
       "      <th>5390</th>\n",
       "      <td>The Curious Kitchen &amp; Bar\\r\\n                 ...</td>\n",
       "      <td>Casual Dining,Bar</td>\n",
       "      <td>Baner</td>\n",
       "      <td>4.2</td>\n",
       "      <td>-248</td>\n",
       "      <td>3.6</td>\n",
       "      <td>-842</td>\n",
       "      <td>Italian,Continental,Chinese,North Indian,</td>\n",
       "      <td>900</td>\n",
       "      <td>Mocktails, Brownie, Caramel Custard, Paan Moji...</td>\n",
       "    </tr>\n",
       "    <tr>\n",
       "      <th>5417</th>\n",
       "      <td>Punjabi Rasoi\\r\\n                             ...</td>\n",
       "      <td>NaN</td>\n",
       "      <td>Baner</td>\n",
       "      <td>4.0</td>\n",
       "      <td>(137 Reviews)</td>\n",
       "      <td>NaN</td>\n",
       "      <td>NaN</td>\n",
       "      <td>North Indian,</td>\n",
       "      <td>300</td>\n",
       "      <td>NaN</td>\n",
       "    </tr>\n",
       "    <tr>\n",
       "      <th>5418</th>\n",
       "      <td>Tokyo Bakery\\r\\n                              ...</td>\n",
       "      <td>Bakery</td>\n",
       "      <td>Baner</td>\n",
       "      <td>4.0</td>\n",
       "      <td>(49 Reviews)</td>\n",
       "      <td>NaN</td>\n",
       "      <td>NaN</td>\n",
       "      <td>Bakery,</td>\n",
       "      <td>150</td>\n",
       "      <td>NaN</td>\n",
       "    </tr>\n",
       "    <tr>\n",
       "      <th>5420</th>\n",
       "      <td>Shawarma, Meals &amp; More\\r\\n                    ...</td>\n",
       "      <td>NaN</td>\n",
       "      <td>Baner</td>\n",
       "      <td>2.6</td>\n",
       "      <td>-42</td>\n",
       "      <td>3.4</td>\n",
       "      <td>-343</td>\n",
       "      <td>Burger,Sandwich,Beverages,Rolls,Lebanese,</td>\n",
       "      <td>300</td>\n",
       "      <td>NaN</td>\n",
       "    </tr>\n",
       "  </tbody>\n",
       "</table>\n",
       "<p>234 rows × 10 columns</p>\n",
       "</div>"
      ],
      "text/plain": [
       "                                              rest_name             rest_type  \\\n",
       "58    Effingut\\r\\r\\n                                ...                   Pub   \n",
       "72    The K Factory\\r\\r\\n                           ...  Casual Dining,Lounge   \n",
       "120   Mr Rabbit's Bar & Burrow\\r\\r\\n                ...     Bar,Casual Dining   \n",
       "142      Urbo\\r\\r\\n                                      Lounge,Casual Dining   \n",
       "166   The Urban Foundry\\r\\r\\n                       ...     Bar,Casual Dining   \n",
       "...                                                 ...                   ...   \n",
       "5386  I'm Lion, Strictly Non-Veg\\r\\n                ...         Casual Dining   \n",
       "5390  The Curious Kitchen & Bar\\r\\n                 ...     Casual Dining,Bar   \n",
       "5417  Punjabi Rasoi\\r\\n                             ...                   NaN   \n",
       "5418  Tokyo Bakery\\r\\n                              ...                Bakery   \n",
       "5420  Shawarma, Meals & More\\r\\n                    ...                   NaN   \n",
       "\n",
       "        loc  dine_rating     dine_reviews  delivery_rating delivery_reviews  \\\n",
       "58    Baner          4.7           -2,894              4.5             -649   \n",
       "72    Baner          4.6           -3,742              3.9             -252   \n",
       "120   Baner          4.5    (633 Reviews)              NaN              NaN   \n",
       "142   Baner          4.2    (952 Reviews)              NaN              NaN   \n",
       "166   Baner          4.6  (3,912 Reviews)              NaN              NaN   \n",
       "...     ...          ...              ...              ...              ...   \n",
       "5386  Baner          4.2             -271              4.0             -355   \n",
       "5390  Baner          4.2             -248              3.6             -842   \n",
       "5417  Baner          4.0    (137 Reviews)              NaN              NaN   \n",
       "5418  Baner          4.0     (49 Reviews)              NaN              NaN   \n",
       "5420  Baner          2.6              -42              3.4             -343   \n",
       "\n",
       "                                                cuisine  Cost (RS)  \\\n",
       "58      Asian,Italian,Mughlai,North Indian,Continental,       2000   \n",
       "72    Beverages,Biryani,Charcoal Chicken,Salad,Desse...       2000   \n",
       "120      South Indian,European,Continental,Finger Food,       1800   \n",
       "142                           North Indian,Continental,       1700   \n",
       "166              Fast Food,Asian,North Indian,Bar Food,       1600   \n",
       "...                                                 ...        ...   \n",
       "5386                   Konkan,Seafood,Goan,Mangalorean,        800   \n",
       "5390          Italian,Continental,Chinese,North Indian,        900   \n",
       "5417                                      North Indian,        300   \n",
       "5418                                            Bakery,        150   \n",
       "5420          Burger,Sandwich,Beverages,Rolls,Lebanese,        300   \n",
       "\n",
       "                                                  liked  \n",
       "58    Apple Cider, Craft Beer, Nachos, Cocktails, Bu...  \n",
       "72    Pasta, Salad, Cheesecake, Cocktails, Pizza, Pe...  \n",
       "120   Cocktails, Tiramisu, Ravioli, Beer, Murgh Ghee...  \n",
       "142   Pizza, Cocktails, Mocktails, Brownie, Paneer T...  \n",
       "166   Cocktails, Pizza, Beer, Soya Chaap, Mocktails,...  \n",
       "...                                                 ...  \n",
       "5386  Sea Food, Neer Dosa, Sol Kadhi, Fry Prawns, Su...  \n",
       "5390  Mocktails, Brownie, Caramel Custard, Paan Moji...  \n",
       "5417                                                NaN  \n",
       "5418                                                NaN  \n",
       "5420                                                NaN  \n",
       "\n",
       "[234 rows x 10 columns]"
      ]
     },
     "execution_count": 10,
     "metadata": {},
     "output_type": "execute_result"
    }
   ],
   "source": [
    "old_df=df[df['loc']=='Baner']\n",
    "old_df"
   ]
  },
  {
   "cell_type": "code",
   "execution_count": 14,
   "metadata": {},
   "outputs": [
    {
     "data": {
      "text/plain": [
       "(154, 10)"
      ]
     },
     "execution_count": 14,
     "metadata": {},
     "output_type": "execute_result"
    }
   ],
   "source": [
    "old_new_df=df[(df[\"loc\"]=='Kothrud') &(df[\"Cost (RS)\"]<500)]\n",
    "old_new_df\n",
    "old_new_df.shape"
   ]
  },
  {
   "cell_type": "code",
   "execution_count": 68,
   "metadata": {
    "scrolled": true
   },
   "outputs": [
    {
     "data": {
      "text/html": [
       "<div>\n",
       "<style scoped>\n",
       "    .dataframe tbody tr th:only-of-type {\n",
       "        vertical-align: middle;\n",
       "    }\n",
       "\n",
       "    .dataframe tbody tr th {\n",
       "        vertical-align: top;\n",
       "    }\n",
       "\n",
       "    .dataframe thead th {\n",
       "        text-align: right;\n",
       "    }\n",
       "</style>\n",
       "<table border=\"1\" class=\"dataframe\">\n",
       "  <thead>\n",
       "    <tr style=\"text-align: right;\">\n",
       "      <th></th>\n",
       "      <th>rest_name</th>\n",
       "      <th>rest_type</th>\n",
       "      <th>loc</th>\n",
       "      <th>dine_rating</th>\n",
       "      <th>cuisine</th>\n",
       "      <th>Cost (RS)</th>\n",
       "      <th>liked</th>\n",
       "    </tr>\n",
       "  </thead>\n",
       "  <tbody>\n",
       "    <tr>\n",
       "      <th>58</th>\n",
       "      <td>Effingut\\r\\r\\n                                ...</td>\n",
       "      <td>Pub</td>\n",
       "      <td>Baner</td>\n",
       "      <td>4.7</td>\n",
       "      <td>Asian,Italian,Mughlai,North Indian,Continental,</td>\n",
       "      <td>2000</td>\n",
       "      <td>Apple Cider, Craft Beer, Nachos, Cocktails, Bu...</td>\n",
       "    </tr>\n",
       "    <tr>\n",
       "      <th>72</th>\n",
       "      <td>The K Factory\\r\\r\\n                           ...</td>\n",
       "      <td>Casual Dining,Lounge</td>\n",
       "      <td>Baner</td>\n",
       "      <td>4.6</td>\n",
       "      <td>Beverages,Biryani,Charcoal Chicken,Salad,Desse...</td>\n",
       "      <td>2000</td>\n",
       "      <td>Pasta, Salad, Cheesecake, Cocktails, Pizza, Pe...</td>\n",
       "    </tr>\n",
       "    <tr>\n",
       "      <th>120</th>\n",
       "      <td>Mr Rabbit's Bar &amp; Burrow\\r\\r\\n                ...</td>\n",
       "      <td>Bar,Casual Dining</td>\n",
       "      <td>Baner</td>\n",
       "      <td>4.5</td>\n",
       "      <td>South Indian,European,Continental,Finger Food,</td>\n",
       "      <td>1800</td>\n",
       "      <td>Cocktails, Tiramisu, Ravioli, Beer, Murgh Ghee...</td>\n",
       "    </tr>\n",
       "    <tr>\n",
       "      <th>142</th>\n",
       "      <td>Urbo\\r\\r\\n</td>\n",
       "      <td>Lounge,Casual Dining</td>\n",
       "      <td>Baner</td>\n",
       "      <td>4.2</td>\n",
       "      <td>North Indian,Continental,</td>\n",
       "      <td>1700</td>\n",
       "      <td>Pizza, Cocktails, Mocktails, Brownie, Paneer T...</td>\n",
       "    </tr>\n",
       "    <tr>\n",
       "      <th>161</th>\n",
       "      <td>The 3 Musketeers Sky Gallary\\r\\r\\n            ...</td>\n",
       "      <td>Casual Dining,Bar</td>\n",
       "      <td>Kothrud</td>\n",
       "      <td>0.0</td>\n",
       "      <td>Beverages,Chinese,Continental,</td>\n",
       "      <td>1700</td>\n",
       "      <td>NaN</td>\n",
       "    </tr>\n",
       "    <tr>\n",
       "      <th>...</th>\n",
       "      <td>...</td>\n",
       "      <td>...</td>\n",
       "      <td>...</td>\n",
       "      <td>...</td>\n",
       "      <td>...</td>\n",
       "      <td>...</td>\n",
       "      <td>...</td>\n",
       "    </tr>\n",
       "    <tr>\n",
       "      <th>5390</th>\n",
       "      <td>The Curious Kitchen &amp; Bar\\r\\n                 ...</td>\n",
       "      <td>Casual Dining,Bar</td>\n",
       "      <td>Baner</td>\n",
       "      <td>4.2</td>\n",
       "      <td>Italian,Continental,Chinese,North Indian,</td>\n",
       "      <td>900</td>\n",
       "      <td>Mocktails, Brownie, Caramel Custard, Paan Moji...</td>\n",
       "    </tr>\n",
       "    <tr>\n",
       "      <th>5400</th>\n",
       "      <td>Taj 24/7\\r\\n</td>\n",
       "      <td>Quick Bites</td>\n",
       "      <td>Kothrud</td>\n",
       "      <td>0.0</td>\n",
       "      <td>Beverages,South Indian,Street Food,</td>\n",
       "      <td>200</td>\n",
       "      <td>NaN</td>\n",
       "    </tr>\n",
       "    <tr>\n",
       "      <th>5417</th>\n",
       "      <td>Punjabi Rasoi\\r\\n                             ...</td>\n",
       "      <td>Quick Bites</td>\n",
       "      <td>Baner</td>\n",
       "      <td>4.0</td>\n",
       "      <td>North Indian,</td>\n",
       "      <td>300</td>\n",
       "      <td>NaN</td>\n",
       "    </tr>\n",
       "    <tr>\n",
       "      <th>5418</th>\n",
       "      <td>Tokyo Bakery\\r\\n                              ...</td>\n",
       "      <td>Bakery</td>\n",
       "      <td>Baner</td>\n",
       "      <td>4.0</td>\n",
       "      <td>Bakery,</td>\n",
       "      <td>150</td>\n",
       "      <td>NaN</td>\n",
       "    </tr>\n",
       "    <tr>\n",
       "      <th>5420</th>\n",
       "      <td>Shawarma, Meals &amp; More\\r\\n                    ...</td>\n",
       "      <td>Quick Bites</td>\n",
       "      <td>Baner</td>\n",
       "      <td>2.6</td>\n",
       "      <td>Burger,Sandwich,Beverages,Rolls,Lebanese,</td>\n",
       "      <td>300</td>\n",
       "      <td>NaN</td>\n",
       "    </tr>\n",
       "  </tbody>\n",
       "</table>\n",
       "<p>483 rows × 7 columns</p>\n",
       "</div>"
      ],
      "text/plain": [
       "                                              rest_name             rest_type  \\\n",
       "58    Effingut\\r\\r\\n                                ...                   Pub   \n",
       "72    The K Factory\\r\\r\\n                           ...  Casual Dining,Lounge   \n",
       "120   Mr Rabbit's Bar & Burrow\\r\\r\\n                ...     Bar,Casual Dining   \n",
       "142      Urbo\\r\\r\\n                                      Lounge,Casual Dining   \n",
       "161   The 3 Musketeers Sky Gallary\\r\\r\\n            ...     Casual Dining,Bar   \n",
       "...                                                 ...                   ...   \n",
       "5390  The Curious Kitchen & Bar\\r\\n                 ...     Casual Dining,Bar   \n",
       "5400   Taj 24/7\\r\\n                                               Quick Bites   \n",
       "5417  Punjabi Rasoi\\r\\n                             ...           Quick Bites   \n",
       "5418  Tokyo Bakery\\r\\n                              ...                Bakery   \n",
       "5420  Shawarma, Meals & More\\r\\n                    ...           Quick Bites   \n",
       "\n",
       "          loc  dine_rating                                            cuisine  \\\n",
       "58      Baner          4.7    Asian,Italian,Mughlai,North Indian,Continental,   \n",
       "72      Baner          4.6  Beverages,Biryani,Charcoal Chicken,Salad,Desse...   \n",
       "120     Baner          4.5     South Indian,European,Continental,Finger Food,   \n",
       "142     Baner          4.2                          North Indian,Continental,   \n",
       "161   Kothrud          0.0                     Beverages,Chinese,Continental,   \n",
       "...       ...          ...                                                ...   \n",
       "5390    Baner          4.2          Italian,Continental,Chinese,North Indian,   \n",
       "5400  Kothrud          0.0                Beverages,South Indian,Street Food,   \n",
       "5417    Baner          4.0                                      North Indian,   \n",
       "5418    Baner          4.0                                            Bakery,   \n",
       "5420    Baner          2.6          Burger,Sandwich,Beverages,Rolls,Lebanese,   \n",
       "\n",
       "      Cost (RS)                                              liked  \n",
       "58         2000  Apple Cider, Craft Beer, Nachos, Cocktails, Bu...  \n",
       "72         2000  Pasta, Salad, Cheesecake, Cocktails, Pizza, Pe...  \n",
       "120        1800  Cocktails, Tiramisu, Ravioli, Beer, Murgh Ghee...  \n",
       "142        1700  Pizza, Cocktails, Mocktails, Brownie, Paneer T...  \n",
       "161        1700                                                NaN  \n",
       "...         ...                                                ...  \n",
       "5390        900  Mocktails, Brownie, Caramel Custard, Paan Moji...  \n",
       "5400        200                                                NaN  \n",
       "5417        300                                                NaN  \n",
       "5418        150                                                NaN  \n",
       "5420        300                                                NaN  \n",
       "\n",
       "[483 rows x 7 columns]"
      ]
     },
     "execution_count": 68,
     "metadata": {},
     "output_type": "execute_result"
    }
   ],
   "source": [
    "#return the restaunts which belongs to baner and belongs to the category quick bites.\n",
    "\n",
    "baner_df=df[(df[\"rest_type\"]==\"Quick Bites\") & (df[\"loc\"]==\"Kothrud\") & (df[\"dine_rating\"]>4)]\n",
    "baner_df #you have to just write a simple query\n",
    "\n",
    "# & means i want all these 3 conditions to be true\n",
    "# | means i want any of the one condition to be true.\n",
    "\n",
    "#return me all the restaurants which either belongs to baner or kothrud.\n",
    "baner_or_kothrud=df[(df[\"loc\"]==\"Kothrud\") | (df[\"loc\"]==\"Baner\")]\n",
    "baner_or_kothrud\n",
    "\n",
    "#these are simple queries you can run..."
   ]
  },
  {
   "cell_type": "code",
   "execution_count": 57,
   "metadata": {},
   "outputs": [],
   "source": [
    "df.isnull().sum()\n",
    "#out of 5400 rows if i have 2700 rows null, (50% of data is missing)\n",
    "#we have to delete that columns\n",
    "df.drop([\"delivery_rating\",\"delivery_reviews\"],axis=1,inplace=True)\n",
    "\n"
   ]
  },
  {
   "cell_type": "code",
   "execution_count": 59,
   "metadata": {},
   "outputs": [
    {
     "data": {
      "text/plain": [
       "Quick Bites                   1467\n",
       "Casual Dining                  911\n",
       "Bakery                         329\n",
       "Dessert Parlor                 308\n",
       "Casual Dining,Bar              241\n",
       "                              ... \n",
       "Casual Dining,Bakery             1\n",
       "Kiosk,Quick Bites                1\n",
       "Dhaba,Bar                        1\n",
       "Microbrewery,Casual Dining       1\n",
       "Paan Shop                        1\n",
       "Name: rest_type, Length: 66, dtype: int64"
      ]
     },
     "execution_count": 59,
     "metadata": {},
     "output_type": "execute_result"
    }
   ],
   "source": [
    "df[\"rest_type\"].value_counts()\n",
    "#mode(highest frequency category)\n",
    "\n",
    "#valuecounts works exactlly like group by"
   ]
  },
  {
   "cell_type": "code",
   "execution_count": 15,
   "metadata": {
    "scrolled": true
   },
   "outputs": [],
   "source": [
    "df.isnull().sum() #we have deleted the columns \n",
    "df[\"rest_type\"]=df[\"rest_type\"].fillna(\"Quick Bites\")"
   ]
  },
  {
   "cell_type": "code",
   "execution_count": 64,
   "metadata": {
    "scrolled": true
   },
   "outputs": [
    {
     "data": {
      "text/plain": [
       "rest_name          0\n",
       "rest_type          0\n",
       "loc                0\n",
       "dine_rating        0\n",
       "dine_reviews     566\n",
       "cuisine            0\n",
       "Cost (RS)          0\n",
       "liked           2699\n",
       "dtype: int64"
      ]
     },
     "execution_count": 64,
     "metadata": {},
     "output_type": "execute_result"
    }
   ],
   "source": [
    "df.isnull().sum() #because we have filled null values of rest_type with the highest category \n",
    "#quick bites, now there are no null values in the rest_type column."
   ]
  },
  {
   "cell_type": "code",
   "execution_count": 66,
   "metadata": {},
   "outputs": [],
   "source": [
    "df.drop([\"dine_reviews\"],axis=1,inplace=True)"
   ]
  },
  {
   "cell_type": "code",
   "execution_count": 67,
   "metadata": {},
   "outputs": [
    {
     "data": {
      "text/plain": [
       "rest_name         0\n",
       "rest_type         0\n",
       "loc               0\n",
       "dine_rating       0\n",
       "cuisine           0\n",
       "Cost (RS)         0\n",
       "liked          2699\n",
       "dtype: int64"
      ]
     },
     "execution_count": 67,
     "metadata": {},
     "output_type": "execute_result"
    }
   ],
   "source": [
    "df.isnull().sum()"
   ]
  },
  {
   "cell_type": "code",
   "execution_count": 12,
   "metadata": {},
   "outputs": [
    {
     "data": {
      "text/html": [
       "<div>\n",
       "<style scoped>\n",
       "    .dataframe tbody tr th:only-of-type {\n",
       "        vertical-align: middle;\n",
       "    }\n",
       "\n",
       "    .dataframe tbody tr th {\n",
       "        vertical-align: top;\n",
       "    }\n",
       "\n",
       "    .dataframe thead th {\n",
       "        text-align: right;\n",
       "    }\n",
       "</style>\n",
       "<table border=\"1\" class=\"dataframe\">\n",
       "  <thead>\n",
       "    <tr style=\"text-align: right;\">\n",
       "      <th></th>\n",
       "      <th>rest_name</th>\n",
       "      <th>rest_type</th>\n",
       "      <th>Cost (RS)</th>\n",
       "    </tr>\n",
       "  </thead>\n",
       "  <tbody>\n",
       "    <tr>\n",
       "      <th>618</th>\n",
       "      <td>Overloaded\\r\\r\\n                              ...</td>\n",
       "      <td>Quick Bites</td>\n",
       "      <td>1100</td>\n",
       "    </tr>\n",
       "  </tbody>\n",
       "</table>\n",
       "</div>"
      ],
      "text/plain": [
       "                                             rest_name    rest_type  Cost (RS)\n",
       "618  Overloaded\\r\\r\\n                              ...  Quick Bites       1100"
      ]
     },
     "execution_count": 12,
     "metadata": {},
     "output_type": "execute_result"
    }
   ],
   "source": [
    "new=df[[\"rest_name\",\"rest_type\",\"Cost (RS)\"]]\n",
    "\n",
    "new[(new[\"Cost (RS)\"]>200)& (new[\"Cost (RS)\"]<800)]\n",
    "new[(new[\"rest_type\"]==\"Quick Bites\")&(old[\"Cost (RS)\"]>1000)]"
   ]
  },
  {
   "cell_type": "code",
   "execution_count": 11,
   "metadata": {},
   "outputs": [
    {
     "data": {
      "text/html": [
       "<div>\n",
       "<style scoped>\n",
       "    .dataframe tbody tr th:only-of-type {\n",
       "        vertical-align: middle;\n",
       "    }\n",
       "\n",
       "    .dataframe tbody tr th {\n",
       "        vertical-align: top;\n",
       "    }\n",
       "\n",
       "    .dataframe thead th {\n",
       "        text-align: right;\n",
       "    }\n",
       "</style>\n",
       "<table border=\"1\" class=\"dataframe\">\n",
       "  <thead>\n",
       "    <tr style=\"text-align: right;\">\n",
       "      <th></th>\n",
       "      <th>rest_name</th>\n",
       "      <th>Cost (RS)</th>\n",
       "      <th>rest_type</th>\n",
       "    </tr>\n",
       "  </thead>\n",
       "  <tbody>\n",
       "    <tr>\n",
       "      <th>0</th>\n",
       "      <td>Mix@36 - The Westin\\r\\r\\n                     ...</td>\n",
       "      <td>4300</td>\n",
       "      <td>Lounge</td>\n",
       "    </tr>\n",
       "    <tr>\n",
       "      <th>1</th>\n",
       "      <td>Kangan - The Westin\\r\\r\\n                     ...</td>\n",
       "      <td>3500</td>\n",
       "      <td>Fine Dining</td>\n",
       "    </tr>\n",
       "    <tr>\n",
       "      <th>2</th>\n",
       "      <td>Coriander Kitchen - Conrad Pune\\r\\r\\n         ...</td>\n",
       "      <td>3200</td>\n",
       "      <td>Fine Dining</td>\n",
       "    </tr>\n",
       "    <tr>\n",
       "      <th>3</th>\n",
       "      <td>The Market - The Westin\\r\\r\\n                 ...</td>\n",
       "      <td>3200</td>\n",
       "      <td>Fine Dining</td>\n",
       "    </tr>\n",
       "    <tr>\n",
       "      <th>4</th>\n",
       "      <td>Vandaag - Vivanta Pune\\r\\r\\n                  ...</td>\n",
       "      <td>3100</td>\n",
       "      <td>Pub,Casual Dining</td>\n",
       "    </tr>\n",
       "    <tr>\n",
       "      <th>...</th>\n",
       "      <td>...</td>\n",
       "      <td>...</td>\n",
       "      <td>...</td>\n",
       "    </tr>\n",
       "    <tr>\n",
       "      <th>5428</th>\n",
       "      <td>Murli Pure Veg\\r\\n                            ...</td>\n",
       "      <td>550</td>\n",
       "      <td>Casual Dining</td>\n",
       "    </tr>\n",
       "    <tr>\n",
       "      <th>5429</th>\n",
       "      <td>The Irani Cafe Restaurant\\r\\n                 ...</td>\n",
       "      <td>800</td>\n",
       "      <td>Casual Dining</td>\n",
       "    </tr>\n",
       "    <tr>\n",
       "      <th>5430</th>\n",
       "      <td>Hotel Shilpa Gavran\\r\\n                       ...</td>\n",
       "      <td>500</td>\n",
       "      <td>Casual Dining</td>\n",
       "    </tr>\n",
       "    <tr>\n",
       "      <th>5431</th>\n",
       "      <td>MH 12 Pav Bhaji &amp; Juice Center\\r\\n            ...</td>\n",
       "      <td>250</td>\n",
       "      <td>Quick Bites</td>\n",
       "    </tr>\n",
       "    <tr>\n",
       "      <th>5432</th>\n",
       "      <td>Liyo China\\r\\n                                ...</td>\n",
       "      <td>500</td>\n",
       "      <td>Casual Dining</td>\n",
       "    </tr>\n",
       "  </tbody>\n",
       "</table>\n",
       "<p>5433 rows × 3 columns</p>\n",
       "</div>"
      ],
      "text/plain": [
       "                                              rest_name  Cost (RS)  \\\n",
       "0     Mix@36 - The Westin\\r\\r\\n                     ...       4300   \n",
       "1     Kangan - The Westin\\r\\r\\n                     ...       3500   \n",
       "2     Coriander Kitchen - Conrad Pune\\r\\r\\n         ...       3200   \n",
       "3     The Market - The Westin\\r\\r\\n                 ...       3200   \n",
       "4     Vandaag - Vivanta Pune\\r\\r\\n                  ...       3100   \n",
       "...                                                 ...        ...   \n",
       "5428  Murli Pure Veg\\r\\n                            ...        550   \n",
       "5429  The Irani Cafe Restaurant\\r\\n                 ...        800   \n",
       "5430  Hotel Shilpa Gavran\\r\\n                       ...        500   \n",
       "5431  MH 12 Pav Bhaji & Juice Center\\r\\n            ...        250   \n",
       "5432  Liyo China\\r\\n                                ...        500   \n",
       "\n",
       "              rest_type  \n",
       "0                Lounge  \n",
       "1           Fine Dining  \n",
       "2           Fine Dining  \n",
       "3           Fine Dining  \n",
       "4     Pub,Casual Dining  \n",
       "...                 ...  \n",
       "5428      Casual Dining  \n",
       "5429      Casual Dining  \n",
       "5430      Casual Dining  \n",
       "5431        Quick Bites  \n",
       "5432      Casual Dining  \n",
       "\n",
       "[5433 rows x 3 columns]"
      ]
     },
     "execution_count": 11,
     "metadata": {},
     "output_type": "execute_result"
    }
   ],
   "source": [
    "old=df[[\"rest_name\",\"Cost (RS)\",\"rest_type\"]]\n",
    "old[(old[\"rest_type\"]==\"Quick Bites\") &(old[\"Cost (RS)\"]>1000)]\n",
    "old"
   ]
  },
  {
   "cell_type": "code",
   "execution_count": 13,
   "metadata": {},
   "outputs": [
    {
     "data": {
      "text/html": [
       "<div>\n",
       "<style scoped>\n",
       "    .dataframe tbody tr th:only-of-type {\n",
       "        vertical-align: middle;\n",
       "    }\n",
       "\n",
       "    .dataframe tbody tr th {\n",
       "        vertical-align: top;\n",
       "    }\n",
       "\n",
       "    .dataframe thead th {\n",
       "        text-align: right;\n",
       "    }\n",
       "</style>\n",
       "<table border=\"1\" class=\"dataframe\">\n",
       "  <thead>\n",
       "    <tr style=\"text-align: right;\">\n",
       "      <th></th>\n",
       "      <th>rest_name</th>\n",
       "      <th>loc</th>\n",
       "      <th>Cost (RS)</th>\n",
       "      <th>cuisine</th>\n",
       "    </tr>\n",
       "  </thead>\n",
       "  <tbody>\n",
       "    <tr>\n",
       "      <th>58</th>\n",
       "      <td>Effingut\\r\\r\\n                                ...</td>\n",
       "      <td>Baner</td>\n",
       "      <td>2000</td>\n",
       "      <td>Asian,Italian,Mughlai,North Indian,Continental,</td>\n",
       "    </tr>\n",
       "    <tr>\n",
       "      <th>72</th>\n",
       "      <td>The K Factory\\r\\r\\n                           ...</td>\n",
       "      <td>Baner</td>\n",
       "      <td>2000</td>\n",
       "      <td>Beverages,Biryani,Charcoal Chicken,Salad,Desse...</td>\n",
       "    </tr>\n",
       "    <tr>\n",
       "      <th>120</th>\n",
       "      <td>Mr Rabbit's Bar &amp; Burrow\\r\\r\\n                ...</td>\n",
       "      <td>Baner</td>\n",
       "      <td>1800</td>\n",
       "      <td>South Indian,European,Continental,Finger Food,</td>\n",
       "    </tr>\n",
       "    <tr>\n",
       "      <th>142</th>\n",
       "      <td>Urbo\\r\\r\\n</td>\n",
       "      <td>Baner</td>\n",
       "      <td>1700</td>\n",
       "      <td>North Indian,Continental,</td>\n",
       "    </tr>\n",
       "    <tr>\n",
       "      <th>161</th>\n",
       "      <td>The 3 Musketeers Sky Gallary\\r\\r\\n            ...</td>\n",
       "      <td>Kothrud</td>\n",
       "      <td>1700</td>\n",
       "      <td>Beverages,Chinese,Continental,</td>\n",
       "    </tr>\n",
       "    <tr>\n",
       "      <th>...</th>\n",
       "      <td>...</td>\n",
       "      <td>...</td>\n",
       "      <td>...</td>\n",
       "      <td>...</td>\n",
       "    </tr>\n",
       "    <tr>\n",
       "      <th>5390</th>\n",
       "      <td>The Curious Kitchen &amp; Bar\\r\\n                 ...</td>\n",
       "      <td>Baner</td>\n",
       "      <td>900</td>\n",
       "      <td>Italian,Continental,Chinese,North Indian,</td>\n",
       "    </tr>\n",
       "    <tr>\n",
       "      <th>5400</th>\n",
       "      <td>Taj 24/7\\r\\n</td>\n",
       "      <td>Kothrud</td>\n",
       "      <td>200</td>\n",
       "      <td>Beverages,South Indian,Street Food,</td>\n",
       "    </tr>\n",
       "    <tr>\n",
       "      <th>5417</th>\n",
       "      <td>Punjabi Rasoi\\r\\n                             ...</td>\n",
       "      <td>Baner</td>\n",
       "      <td>300</td>\n",
       "      <td>North Indian,</td>\n",
       "    </tr>\n",
       "    <tr>\n",
       "      <th>5418</th>\n",
       "      <td>Tokyo Bakery\\r\\n                              ...</td>\n",
       "      <td>Baner</td>\n",
       "      <td>150</td>\n",
       "      <td>Bakery,</td>\n",
       "    </tr>\n",
       "    <tr>\n",
       "      <th>5420</th>\n",
       "      <td>Shawarma, Meals &amp; More\\r\\n                    ...</td>\n",
       "      <td>Baner</td>\n",
       "      <td>300</td>\n",
       "      <td>Burger,Sandwich,Beverages,Rolls,Lebanese,</td>\n",
       "    </tr>\n",
       "  </tbody>\n",
       "</table>\n",
       "<p>483 rows × 4 columns</p>\n",
       "</div>"
      ],
      "text/plain": [
       "                                              rest_name      loc  Cost (RS)  \\\n",
       "58    Effingut\\r\\r\\n                                ...    Baner       2000   \n",
       "72    The K Factory\\r\\r\\n                           ...    Baner       2000   \n",
       "120   Mr Rabbit's Bar & Burrow\\r\\r\\n                ...    Baner       1800   \n",
       "142      Urbo\\r\\r\\n                                        Baner       1700   \n",
       "161   The 3 Musketeers Sky Gallary\\r\\r\\n            ...  Kothrud       1700   \n",
       "...                                                 ...      ...        ...   \n",
       "5390  The Curious Kitchen & Bar\\r\\n                 ...    Baner        900   \n",
       "5400   Taj 24/7\\r\\n                                      Kothrud        200   \n",
       "5417  Punjabi Rasoi\\r\\n                             ...    Baner        300   \n",
       "5418  Tokyo Bakery\\r\\n                              ...    Baner        150   \n",
       "5420  Shawarma, Meals & More\\r\\n                    ...    Baner        300   \n",
       "\n",
       "                                                cuisine  \n",
       "58      Asian,Italian,Mughlai,North Indian,Continental,  \n",
       "72    Beverages,Biryani,Charcoal Chicken,Salad,Desse...  \n",
       "120      South Indian,European,Continental,Finger Food,  \n",
       "142                           North Indian,Continental,  \n",
       "161                      Beverages,Chinese,Continental,  \n",
       "...                                                 ...  \n",
       "5390          Italian,Continental,Chinese,North Indian,  \n",
       "5400                Beverages,South Indian,Street Food,  \n",
       "5417                                      North Indian,  \n",
       "5418                                            Bakery,  \n",
       "5420          Burger,Sandwich,Beverages,Rolls,Lebanese,  \n",
       "\n",
       "[483 rows x 4 columns]"
      ]
     },
     "execution_count": 13,
     "metadata": {},
     "output_type": "execute_result"
    }
   ],
   "source": [
    "new_df=df[[\"rest_name\",\"Cost (RS)\"]]\n",
    "new_df.shape #slicing of columns.\n",
    "new_df\n",
    "#return only those restaurants which have a cost of less than 2000.\n",
    "\n",
    "rest_less_1000=new_df[new_df[\"Cost (RS)\"]<1000]\n",
    "rest_less_1000 \n",
    "\n",
    "#slice location, cost(rs), restname, cuisine from the data and return only those restaurants which \n",
    "#belongs to baner.\n",
    "\n",
    "df_new=df[[\"rest_name\",\"loc\",\"Cost (RS)\",\"cuisine\"]]\n",
    "df_new\n",
    "\n",
    "baner_r=df_new[(df_new[\"loc\"]==\"Baner\") & (df_new[\"Cost (RS)\"]<1000) ]\n",
    "baner_r\n",
    "\n",
    "#return the baner restaurants which have a cost <1000.\n",
    "#return the rest names which belongs to kothrud or baner. \n",
    "\n",
    "baner_or_kothrud=df_new[(df_new[\"loc\"]==\"Kothrud\") | (df_new[\"loc\"]==\"Baner\")]\n",
    "baner_or_kothrud"
   ]
  },
  {
   "cell_type": "markdown",
   "metadata": {},
   "source": [
    "# Exploratory Data Analysis\n",
    "\n",
    "Lets do the EDA on Zomato to understand the data in depth.\n",
    "\n",
    "We gonna do Univariate Data Analysis and Bivariate Data Analysis\n",
    "\n"
   ]
  },
  {
   "cell_type": "code",
   "execution_count": 14,
   "metadata": {
    "scrolled": false
   },
   "outputs": [
    {
     "data": {
      "text/html": [
       "<div>\n",
       "<style scoped>\n",
       "    .dataframe tbody tr th:only-of-type {\n",
       "        vertical-align: middle;\n",
       "    }\n",
       "\n",
       "    .dataframe tbody tr th {\n",
       "        vertical-align: top;\n",
       "    }\n",
       "\n",
       "    .dataframe thead th {\n",
       "        text-align: right;\n",
       "    }\n",
       "</style>\n",
       "<table border=\"1\" class=\"dataframe\">\n",
       "  <thead>\n",
       "    <tr style=\"text-align: right;\">\n",
       "      <th></th>\n",
       "      <th>rest_name</th>\n",
       "      <th>rest_type</th>\n",
       "      <th>loc</th>\n",
       "      <th>dine_rating</th>\n",
       "      <th>dine_reviews</th>\n",
       "      <th>delivery_rating</th>\n",
       "      <th>delivery_reviews</th>\n",
       "      <th>cuisine</th>\n",
       "      <th>Cost (RS)</th>\n",
       "      <th>liked</th>\n",
       "    </tr>\n",
       "  </thead>\n",
       "  <tbody>\n",
       "    <tr>\n",
       "      <th>0</th>\n",
       "      <td>Mix@36 - The Westin\\r\\r\\n                     ...</td>\n",
       "      <td>Lounge</td>\n",
       "      <td>The Westin, Mundhwa</td>\n",
       "      <td>4.2</td>\n",
       "      <td>(707 Reviews)</td>\n",
       "      <td>NaN</td>\n",
       "      <td>NaN</td>\n",
       "      <td>North Indian,Continental,Asian,Finger Food,</td>\n",
       "      <td>4300</td>\n",
       "      <td>Cocktails, Chaat, Beer</td>\n",
       "    </tr>\n",
       "    <tr>\n",
       "      <th>1</th>\n",
       "      <td>Kangan - The Westin\\r\\r\\n                     ...</td>\n",
       "      <td>Fine Dining</td>\n",
       "      <td>The Westin, Mundhwa</td>\n",
       "      <td>4.1</td>\n",
       "      <td>(344 Reviews)</td>\n",
       "      <td>NaN</td>\n",
       "      <td>NaN</td>\n",
       "      <td>North Indian,Mughlai,</td>\n",
       "      <td>3500</td>\n",
       "      <td>Biryani, Veg Platter, Dal Makhani, Butter Chic...</td>\n",
       "    </tr>\n",
       "    <tr>\n",
       "      <th>2</th>\n",
       "      <td>Coriander Kitchen - Conrad Pune\\r\\r\\n         ...</td>\n",
       "      <td>Fine Dining</td>\n",
       "      <td>Conrad Pune, Bund Garden Road</td>\n",
       "      <td>4.5</td>\n",
       "      <td>(541 Reviews)</td>\n",
       "      <td>NaN</td>\n",
       "      <td>NaN</td>\n",
       "      <td>Mediterranean,Asian,North Indian,</td>\n",
       "      <td>3200</td>\n",
       "      <td>Pasta, Panipuri, Waffles, Pizza, Salad, Chaat,...</td>\n",
       "    </tr>\n",
       "    <tr>\n",
       "      <th>3</th>\n",
       "      <td>The Market - The Westin\\r\\r\\n                 ...</td>\n",
       "      <td>Fine Dining</td>\n",
       "      <td>The Westin, Mundhwa</td>\n",
       "      <td>4.0</td>\n",
       "      <td>(55 Reviews)</td>\n",
       "      <td>NaN</td>\n",
       "      <td>NaN</td>\n",
       "      <td>Asian,European,North Indian,</td>\n",
       "      <td>3200</td>\n",
       "      <td>Vanilla Ice Cream, Chaat, Sushi</td>\n",
       "    </tr>\n",
       "    <tr>\n",
       "      <th>4</th>\n",
       "      <td>Vandaag - Vivanta Pune\\r\\r\\n                  ...</td>\n",
       "      <td>Pub,Casual Dining</td>\n",
       "      <td>Vivanta Pune, Hinjewadi</td>\n",
       "      <td>3.9</td>\n",
       "      <td>(113 Reviews)</td>\n",
       "      <td>NaN</td>\n",
       "      <td>NaN</td>\n",
       "      <td>Finger Food,Continental,</td>\n",
       "      <td>3100</td>\n",
       "      <td>Cocktails, Beer, Peri Peri Chicken, Fish, Veg ...</td>\n",
       "    </tr>\n",
       "    <tr>\n",
       "      <th>...</th>\n",
       "      <td>...</td>\n",
       "      <td>...</td>\n",
       "      <td>...</td>\n",
       "      <td>...</td>\n",
       "      <td>...</td>\n",
       "      <td>...</td>\n",
       "      <td>...</td>\n",
       "      <td>...</td>\n",
       "      <td>...</td>\n",
       "      <td>...</td>\n",
       "    </tr>\n",
       "    <tr>\n",
       "      <th>5428</th>\n",
       "      <td>Murli Pure Veg\\r\\n                            ...</td>\n",
       "      <td>Casual Dining</td>\n",
       "      <td>Sinhgad Road</td>\n",
       "      <td>3.1</td>\n",
       "      <td>-22</td>\n",
       "      <td>3.5</td>\n",
       "      <td>-253</td>\n",
       "      <td>South Indian,Chinese,North Indian,</td>\n",
       "      <td>550</td>\n",
       "      <td>NaN</td>\n",
       "    </tr>\n",
       "    <tr>\n",
       "      <th>5429</th>\n",
       "      <td>The Irani Cafe Restaurant\\r\\n                 ...</td>\n",
       "      <td>Casual Dining</td>\n",
       "      <td>Viman Nagar</td>\n",
       "      <td>2.9</td>\n",
       "      <td>(80 Reviews)</td>\n",
       "      <td>NaN</td>\n",
       "      <td>NaN</td>\n",
       "      <td>Mughlai,Iranian,</td>\n",
       "      <td>800</td>\n",
       "      <td>Naan, Mutton Keema, Dum Biryani, Irani Chai, B...</td>\n",
       "    </tr>\n",
       "    <tr>\n",
       "      <th>5430</th>\n",
       "      <td>Hotel Shilpa Gavran\\r\\n                       ...</td>\n",
       "      <td>Casual Dining</td>\n",
       "      <td>Pimpri</td>\n",
       "      <td>3.8</td>\n",
       "      <td>(90 Reviews)</td>\n",
       "      <td>NaN</td>\n",
       "      <td>NaN</td>\n",
       "      <td>Chinese,Fast Food,North Indian,</td>\n",
       "      <td>500</td>\n",
       "      <td>Mutton Thali, Chicken Sukha</td>\n",
       "    </tr>\n",
       "    <tr>\n",
       "      <th>5431</th>\n",
       "      <td>MH 12 Pav Bhaji &amp; Juice Center\\r\\n            ...</td>\n",
       "      <td>Quick Bites</td>\n",
       "      <td>Sadashiv Peth</td>\n",
       "      <td>3.1</td>\n",
       "      <td>-24</td>\n",
       "      <td>3.1</td>\n",
       "      <td>-439</td>\n",
       "      <td>Beverages,Chinese,Street Food,Fast Food,</td>\n",
       "      <td>250</td>\n",
       "      <td>NaN</td>\n",
       "    </tr>\n",
       "    <tr>\n",
       "      <th>5432</th>\n",
       "      <td>Liyo China\\r\\n                                ...</td>\n",
       "      <td>Casual Dining</td>\n",
       "      <td>B.T. Kawade Road</td>\n",
       "      <td>3.6</td>\n",
       "      <td>-97</td>\n",
       "      <td>3.8</td>\n",
       "      <td>-365</td>\n",
       "      <td>Thai,Chinese,</td>\n",
       "      <td>500</td>\n",
       "      <td>Noodle</td>\n",
       "    </tr>\n",
       "  </tbody>\n",
       "</table>\n",
       "<p>5183 rows × 10 columns</p>\n",
       "</div>"
      ],
      "text/plain": [
       "                                              rest_name          rest_type  \\\n",
       "0     Mix@36 - The Westin\\r\\r\\n                     ...             Lounge   \n",
       "1     Kangan - The Westin\\r\\r\\n                     ...        Fine Dining   \n",
       "2     Coriander Kitchen - Conrad Pune\\r\\r\\n         ...        Fine Dining   \n",
       "3     The Market - The Westin\\r\\r\\n                 ...        Fine Dining   \n",
       "4     Vandaag - Vivanta Pune\\r\\r\\n                  ...  Pub,Casual Dining   \n",
       "...                                                 ...                ...   \n",
       "5428  Murli Pure Veg\\r\\n                            ...      Casual Dining   \n",
       "5429  The Irani Cafe Restaurant\\r\\n                 ...      Casual Dining   \n",
       "5430  Hotel Shilpa Gavran\\r\\n                       ...      Casual Dining   \n",
       "5431  MH 12 Pav Bhaji & Juice Center\\r\\n            ...        Quick Bites   \n",
       "5432  Liyo China\\r\\n                                ...      Casual Dining   \n",
       "\n",
       "                                loc  dine_rating   dine_reviews  \\\n",
       "0               The Westin, Mundhwa          4.2  (707 Reviews)   \n",
       "1               The Westin, Mundhwa          4.1  (344 Reviews)   \n",
       "2     Conrad Pune, Bund Garden Road          4.5  (541 Reviews)   \n",
       "3               The Westin, Mundhwa          4.0   (55 Reviews)   \n",
       "4           Vivanta Pune, Hinjewadi          3.9  (113 Reviews)   \n",
       "...                             ...          ...            ...   \n",
       "5428                   Sinhgad Road          3.1            -22   \n",
       "5429                    Viman Nagar          2.9   (80 Reviews)   \n",
       "5430                         Pimpri          3.8   (90 Reviews)   \n",
       "5431                  Sadashiv Peth          3.1            -24   \n",
       "5432               B.T. Kawade Road          3.6            -97   \n",
       "\n",
       "      delivery_rating delivery_reviews  \\\n",
       "0                 NaN              NaN   \n",
       "1                 NaN              NaN   \n",
       "2                 NaN              NaN   \n",
       "3                 NaN              NaN   \n",
       "4                 NaN              NaN   \n",
       "...               ...              ...   \n",
       "5428              3.5             -253   \n",
       "5429              NaN              NaN   \n",
       "5430              NaN              NaN   \n",
       "5431              3.1             -439   \n",
       "5432              3.8             -365   \n",
       "\n",
       "                                          cuisine  Cost (RS)  \\\n",
       "0     North Indian,Continental,Asian,Finger Food,       4300   \n",
       "1                           North Indian,Mughlai,       3500   \n",
       "2               Mediterranean,Asian,North Indian,       3200   \n",
       "3                    Asian,European,North Indian,       3200   \n",
       "4                        Finger Food,Continental,       3100   \n",
       "...                                           ...        ...   \n",
       "5428           South Indian,Chinese,North Indian,        550   \n",
       "5429                             Mughlai,Iranian,        800   \n",
       "5430              Chinese,Fast Food,North Indian,        500   \n",
       "5431     Beverages,Chinese,Street Food,Fast Food,        250   \n",
       "5432                                Thai,Chinese,        500   \n",
       "\n",
       "                                                  liked  \n",
       "0                                Cocktails, Chaat, Beer  \n",
       "1     Biryani, Veg Platter, Dal Makhani, Butter Chic...  \n",
       "2     Pasta, Panipuri, Waffles, Pizza, Salad, Chaat,...  \n",
       "3                       Vanilla Ice Cream, Chaat, Sushi  \n",
       "4     Cocktails, Beer, Peri Peri Chicken, Fish, Veg ...  \n",
       "...                                                 ...  \n",
       "5428                                                NaN  \n",
       "5429  Naan, Mutton Keema, Dum Biryani, Irani Chai, B...  \n",
       "5430                        Mutton Thali, Chicken Sukha  \n",
       "5431                                                NaN  \n",
       "5432                                             Noodle  \n",
       "\n",
       "[5183 rows x 10 columns]"
      ]
     },
     "execution_count": 14,
     "metadata": {},
     "output_type": "execute_result"
    }
   ],
   "source": [
    "df"
   ]
  },
  {
   "cell_type": "markdown",
   "metadata": {},
   "source": [
    "# FEATURE-1(dine_rating)"
   ]
  },
  {
   "cell_type": "code",
   "execution_count": 71,
   "metadata": {},
   "outputs": [
    {
     "data": {
      "text/plain": [
       "0       4.2\n",
       "1       4.1\n",
       "2       4.5\n",
       "3       4.0\n",
       "4       3.9\n",
       "       ... \n",
       "5428    3.1\n",
       "5429    2.9\n",
       "5430    3.8\n",
       "5431    3.1\n",
       "5432    3.6\n",
       "Name: dine_rating, Length: 5183, dtype: float64"
      ]
     },
     "execution_count": 71,
     "metadata": {},
     "output_type": "execute_result"
    }
   ],
   "source": [
    "df[\"dine_rating\"] #which is telling me about the average dine rating of each restaurant"
   ]
  },
  {
   "cell_type": "code",
   "execution_count": 72,
   "metadata": {},
   "outputs": [
    {
     "data": {
      "text/plain": [
       "Text(0, 0.5, 'count of restaurants')"
      ]
     },
     "execution_count": 72,
     "metadata": {},
     "output_type": "execute_result"
    },
    {
     "data": {
      "image/png": "[encoded data removed]",
      "text/plain": [
       "<Figure size 400x400 with 1 Axes>"
      ]
     },
     "metadata": {},
     "output_type": "display_data"
    }
   ],
   "source": [
    "#lets plot the histogram\n",
    "plt.figure(figsize=(4,4))\n",
    "#plt is matplotlib\n",
    "plt.hist(df['dine_rating']) #plt.hist(df.dine_rating)\n",
    "plt.xlabel(\"dine_rating\")#\n",
    "plt.ylabel(\"count of restaurants\")\n",
    "\n",
    "\n",
    "#frequency over different interval ranges(histogram works for numerical feature.)\n"
   ]
  },
  {
   "cell_type": "markdown",
   "metadata": {},
   "source": [
    "# OBSERVATIONS\n",
    "\n",
    "1.More than 500 restaurnants have 0 ratings\n",
    "\n",
    "2.Most of the restaurants got rating between 3.5 to 4 and thats a good news for zomato.\n",
    "\n",
    "3.There are no restaurants which got 1 as a rating in our data."
   ]
  },
  {
   "cell_type": "code",
   "execution_count": null,
   "metadata": {
    "scrolled": true
   },
   "outputs": [],
   "source": []
  },
  {
   "cell_type": "code",
   "execution_count": 73,
   "metadata": {},
   "outputs": [
    {
     "data": {
      "text/plain": [
       "Index(['rest_name', 'rest_type', 'loc', 'dine_rating', 'cuisine', 'Cost (RS)',\n",
       "       'liked'],\n",
       "      dtype='object')"
      ]
     },
     "execution_count": 73,
     "metadata": {},
     "output_type": "execute_result"
    }
   ],
   "source": [
    "df.columns #we deleted delivery_rating column because it has lot of null values."
   ]
  },
  {
   "cell_type": "code",
   "execution_count": null,
   "metadata": {},
   "outputs": [],
   "source": []
  },
  {
   "cell_type": "markdown",
   "metadata": {},
   "source": [
    "# Observation\n",
    "\n",
    "1. No restaurant have rating less than 2.5.\n",
    "\n",
    "\n",
    "2. More than 800 restaurant have rating between 3.7 and 4\n",
    "\n",
    "\n",
    "\n",
    "3. More than 600 restaurant have rating between 4 to 4.3."
   ]
  },
  {
   "cell_type": "code",
   "execution_count": 17,
   "metadata": {},
   "outputs": [
    {
     "data": {
      "text/plain": [
       "Index(['rest_name', 'rest_type', 'loc', 'dine_rating', 'dine_reviews',\n",
       "       'delivery_rating', 'delivery_reviews', 'cuisine', 'Cost (RS)', 'liked'],\n",
       "      dtype='object')"
      ]
     },
     "execution_count": 17,
     "metadata": {},
     "output_type": "execute_result"
    }
   ],
   "source": [
    "df.columns"
   ]
  },
  {
   "cell_type": "code",
   "execution_count": 74,
   "metadata": {
    "scrolled": true
   },
   "outputs": [
    {
     "data": {
      "image/png": "[encoded data removed]",
      "text/plain": [
       "<Figure size 300x300 with 1 Axes>"
      ]
     },
     "metadata": {},
     "output_type": "display_data"
    }
   ],
   "source": [
    "#probability density function\n",
    "\n",
    "sns.FacetGrid(df, height=3) \\\n",
    "   .map(sns.distplot, \"dine_rating\")\n",
    "plt.show()\n",
    "\n",
    "#smoothen version of histogram(pdf)"
   ]
  },
  {
   "cell_type": "code",
   "execution_count": 19,
   "metadata": {},
   "outputs": [
    {
     "data": {
      "image/png": "[encoded data removed]",
      "text/plain": [
       "<Figure size 300x300 with 1 Axes>"
      ]
     },
     "metadata": {},
     "output_type": "display_data"
    }
   ],
   "source": [
    "sns.FacetGrid(df, height=3) \\\n",
    "   .map(sns.distplot, \"delivery_rating\")\n",
    "plt.show()"
   ]
  },
  {
   "cell_type": "code",
   "execution_count": 77,
   "metadata": {
    "scrolled": true
   },
   "outputs": [
    {
     "data": {
      "text/plain": [
       "(array([ 566.,    0.,    0.,    0.,   62.,  384.,  958., 1820., 1227.,\n",
       "         166.]),\n",
       " array([0.  , 0.49, 0.98, 1.47, 1.96, 2.45, 2.94, 3.43, 3.92, 4.41, 4.9 ]),\n",
       " <BarContainer object of 10 artists>)"
      ]
     },
     "execution_count": 77,
     "metadata": {},
     "output_type": "execute_result"
    },
    {
     "data": {
      "image/png": "[encoded data removed]",
      "text/plain": [
       "<Figure size 640x480 with 1 Axes>"
      ]
     },
     "metadata": {},
     "output_type": "display_data"
    }
   ],
   "source": [
    "plt.hist(df[\"dine_rating\"],color=\"r\")"
   ]
  },
  {
   "cell_type": "code",
   "execution_count": 89,
   "metadata": {
    "scrolled": true
   },
   "outputs": [
    {
     "name": "stdout",
     "output_type": "stream",
     "text": [
      "[264 225 224 219 213 183 180 142 134 123 114 113 104  98  94]\n",
      "Index(['Kothrud', 'Wakad', 'Viman Nagar', 'Baner', 'Hinjawadi', 'Hadapsar',\n",
      "       'Kharadi', 'Sinhgad Road', 'Pimple Saudagar', 'Koregaon Park',\n",
      "       'Chinchwad', 'Aundh', 'Kondhwa', 'Katraj', 'Pimpri'],\n",
      "      dtype='object')\n"
     ]
    }
   ],
   "source": [
    "location=df['loc'].value_counts()[:15]\n",
    "#print(location.index)\n",
    "#print(location.values)\n",
    "#no of restaurants per location\n",
    "location\n",
    "# we can not make a histogram of this but we can make bar plot\n",
    "print(location.values)\n",
    "print(location.index)"
   ]
  },
  {
   "cell_type": "code",
   "execution_count": 85,
   "metadata": {
    "scrolled": true
   },
   "outputs": [
    {
     "data": {
      "text/plain": [
       "<Axes: >"
      ]
     },
     "execution_count": 85,
     "metadata": {},
     "output_type": "execute_result"
    },
    {
     "data": {
      "image/png": "[encoded data removed]",
      "text/plain": [
       "<Figure size 640x480 with 1 Axes>"
      ]
     },
     "metadata": {},
     "output_type": "display_data"
    }
   ],
   "source": [
    "sns.barplot(x=location.values,y=location.index)\n",
    "#import seaborn as sns"
   ]
  },
  {
   "cell_type": "code",
   "execution_count": 93,
   "metadata": {},
   "outputs": [
    {
     "data": {
      "text/plain": [
       "([<matplotlib.patches.Wedge at 0x202c2ed0f90>,\n",
       "  <matplotlib.patches.Wedge at 0x202c2ed1c50>,\n",
       "  <matplotlib.patches.Wedge at 0x202c2ed3390>,\n",
       "  <matplotlib.patches.Wedge at 0x202c2edca10>,\n",
       "  <matplotlib.patches.Wedge at 0x202c2eddf50>,\n",
       "  <matplotlib.patches.Wedge at 0x202c2edf8d0>,\n",
       "  <matplotlib.patches.Wedge at 0x202c2eecd90>,\n",
       "  <matplotlib.patches.Wedge at 0x202c2eee410>,\n",
       "  <matplotlib.patches.Wedge at 0x202c2ede050>,\n",
       "  <matplotlib.patches.Wedge at 0x202c2f01150>,\n",
       "  <matplotlib.patches.Wedge at 0x202c2f02d90>,\n",
       "  <matplotlib.patches.Wedge at 0x202c2f10a10>,\n",
       "  <matplotlib.patches.Wedge at 0x202c2f12650>,\n",
       "  <matplotlib.patches.Wedge at 0x202c2f1c150>,\n",
       "  <matplotlib.patches.Wedge at 0x202c2f1dcd0>],\n",
       " [Text(1.0365491185161808, 0.36819278225316776, 'Kothrud'),\n",
       "  Text(0.6186445440680963, 0.9095487497076654, 'Wakad'),\n",
       "  Text(0.018486711226435353, 1.099844644260284, 'Viman Nagar'),\n",
       "  Text(-0.5804971887996179, 0.9343570055368242, 'Baner'),\n",
       "  Text(-0.9874233192467575, 0.484763023144006, 'Hinjawadi'),\n",
       "  Text(-1.0983006797410477, -0.061119693064943914, 'Hadapsar'),\n",
       "  Text(-0.9519160748339192, -0.5512311552087605, 'Kharadi'),\n",
       "  Text(-0.6477137305560334, -0.8890820677806894, 'Sinhgad Road'),\n",
       "  Text(-0.2963596179025365, -1.0593257180285311, 'Pimple Saudagar'),\n",
       "  Text(0.06537902054678534, -1.0980553645751854, 'Koregaon Park'),\n",
       "  Text(0.3935408757026065, -1.0271930583640185, 'Chinchwad'),\n",
       "  Text(0.6738606345094051, -0.8694319095010156, 'Aundh'),\n",
       "  Text(0.8882439466678129, -0.6488626135076574, 'Kondhwa'),\n",
       "  Text(1.0256590205241471, -0.39752179011652605, 'Katraj'),\n",
       "  Text(1.0918872013405874, -0.13335043887674208, 'Pimpri')],\n",
       " [Text(0.5653904282815532, 0.20083242668354603, '10.9%'),\n",
       "  Text(0.33744247858259796, 0.4961174998405447, '9.3%'),\n",
       "  Text(0.010083660668964736, 0.5999152605056094, '9.2%'),\n",
       "  Text(-0.316634830254337, 0.5096492757473586, '9.0%'),\n",
       "  Text(-0.5385945377709586, 0.26441619444218506, '8.8%'),\n",
       "  Text(-0.5990730980405714, -0.03333801439906031, '7.5%'),\n",
       "  Text(-0.5192269499094104, -0.3006715392047784, '7.4%'),\n",
       "  Text(-0.3532983984851091, -0.4849538551531033, '5.8%'),\n",
       "  Text(-0.1616507006741108, -0.5778140280155624, '5.5%'),\n",
       "  Text(0.035661283934610176, -0.5989392897682828, '5.1%'),\n",
       "  Text(0.21465865947414897, -0.56028712274401, '4.7%'),\n",
       "  Text(0.3675603460960391, -0.4742355870005539, '4.7%'),\n",
       "  Text(0.48449669818244334, -0.35392506191326767, '4.3%'),\n",
       "  Text(0.559450374831353, -0.2168300673362869, '4.0%'),\n",
       "  Text(0.5955748370948658, -0.0727366030236775, '3.9%')])"
      ]
     },
     "execution_count": 93,
     "metadata": {},
     "output_type": "execute_result"
    },
    {
     "data": {
      "image/png": "[encoded data removed]",
      "text/plain": [
       "<Figure size 640x480 with 1 Axes>"
      ]
     },
     "metadata": {},
     "output_type": "display_data"
    }
   ],
   "source": [
    "plt.pie(location.values,labels=location.index,autopct=\"%1.1f%%\")\n",
    "\n",
    "#pie chart gives me the percentage distribution"
   ]
  },
  {
   "cell_type": "code",
   "execution_count": 24,
   "metadata": {
    "scrolled": true
   },
   "outputs": [
    {
     "data": {
      "text/html": [
       "<div>\n",
       "<style scoped>\n",
       "    .dataframe tbody tr th:only-of-type {\n",
       "        vertical-align: middle;\n",
       "    }\n",
       "\n",
       "    .dataframe tbody tr th {\n",
       "        vertical-align: top;\n",
       "    }\n",
       "\n",
       "    .dataframe thead th {\n",
       "        text-align: right;\n",
       "    }\n",
       "</style>\n",
       "<table border=\"1\" class=\"dataframe\">\n",
       "  <thead>\n",
       "    <tr style=\"text-align: right;\">\n",
       "      <th></th>\n",
       "      <th>rest_name</th>\n",
       "      <th>rest_type</th>\n",
       "      <th>loc</th>\n",
       "      <th>dine_rating</th>\n",
       "      <th>dine_reviews</th>\n",
       "      <th>delivery_rating</th>\n",
       "      <th>delivery_reviews</th>\n",
       "      <th>cuisine</th>\n",
       "      <th>Cost (RS)</th>\n",
       "      <th>liked</th>\n",
       "    </tr>\n",
       "  </thead>\n",
       "  <tbody>\n",
       "    <tr>\n",
       "      <th>247</th>\n",
       "      <td>Mahesh Lunch Home\\r\\r\\n                       ...</td>\n",
       "      <td>Casual Dining,Bar</td>\n",
       "      <td>Camp Area</td>\n",
       "      <td>4.1</td>\n",
       "      <td>-599</td>\n",
       "      <td>4.2</td>\n",
       "      <td>-139</td>\n",
       "      <td>Chinese,North Indian,Seafood,</td>\n",
       "      <td>1500</td>\n",
       "      <td>Sea Food, Fish, Neer Dosa, Masala Prawn, Appam...</td>\n",
       "    </tr>\n",
       "    <tr>\n",
       "      <th>437</th>\n",
       "      <td>Dolchii\\r\\r\\n</td>\n",
       "      <td>Casual Dining</td>\n",
       "      <td>Camp Area</td>\n",
       "      <td>3.4</td>\n",
       "      <td>(250 Reviews)</td>\n",
       "      <td>NaN</td>\n",
       "      <td>NaN</td>\n",
       "      <td>Continental,Chinese,North Indian,</td>\n",
       "      <td>1300</td>\n",
       "      <td>Mocktails, Mojito, Tikka, Chole Bhature, Panee...</td>\n",
       "    </tr>\n",
       "    <tr>\n",
       "      <th>509</th>\n",
       "      <td>Coconut Grove Resto-Bar\\r\\r\\n                 ...</td>\n",
       "      <td>Casual Dining,Bar</td>\n",
       "      <td>Camp Area</td>\n",
       "      <td>4.2</td>\n",
       "      <td>-356</td>\n",
       "      <td>3.9</td>\n",
       "      <td>-461</td>\n",
       "      <td>North Indian,Chettinad,Seafood,Mangalorean,</td>\n",
       "      <td>1200</td>\n",
       "      <td>Sea Food, Fish, Neer Dosa, Appam, Biryani, Moc...</td>\n",
       "    </tr>\n",
       "    <tr>\n",
       "      <th>522</th>\n",
       "      <td>Status Family Rest-O-Bar\\r\\r\\n                ...</td>\n",
       "      <td>Casual Dining</td>\n",
       "      <td>Camp Area</td>\n",
       "      <td>4.1</td>\n",
       "      <td>-276</td>\n",
       "      <td>4.0</td>\n",
       "      <td>-262</td>\n",
       "      <td>Chinese,Italian,Mughlai,North Indian,</td>\n",
       "      <td>1200</td>\n",
       "      <td>Chocolate Mousse, Biryani, Butter Chicken, Rot...</td>\n",
       "    </tr>\n",
       "    <tr>\n",
       "      <th>626</th>\n",
       "      <td>Mazdana Restaurant &amp; Bar\\r\\r\\n                ...</td>\n",
       "      <td>Casual Dining,Bar</td>\n",
       "      <td>Camp Area</td>\n",
       "      <td>3.9</td>\n",
       "      <td>(88 Reviews)</td>\n",
       "      <td>NaN</td>\n",
       "      <td>NaN</td>\n",
       "      <td>Maharashtrian,Chinese,Bar Food,North Indian,Co...</td>\n",
       "      <td>1100</td>\n",
       "      <td>NaN</td>\n",
       "    </tr>\n",
       "    <tr>\n",
       "      <th>...</th>\n",
       "      <td>...</td>\n",
       "      <td>...</td>\n",
       "      <td>...</td>\n",
       "      <td>...</td>\n",
       "      <td>...</td>\n",
       "      <td>...</td>\n",
       "      <td>...</td>\n",
       "      <td>...</td>\n",
       "      <td>...</td>\n",
       "      <td>...</td>\n",
       "    </tr>\n",
       "    <tr>\n",
       "      <th>5072</th>\n",
       "      <td>Hotel Preetam\\r\\n                             ...</td>\n",
       "      <td>Casual Dining</td>\n",
       "      <td>Camp Area</td>\n",
       "      <td>3.6</td>\n",
       "      <td>(5 Reviews)</td>\n",
       "      <td>NaN</td>\n",
       "      <td>NaN</td>\n",
       "      <td>Biryani,Malwani,Chinese,North Indian,</td>\n",
       "      <td>600</td>\n",
       "      <td>NaN</td>\n",
       "    </tr>\n",
       "    <tr>\n",
       "      <th>5123</th>\n",
       "      <td>Raje Chinese Restaurant\\r\\n                   ...</td>\n",
       "      <td>Quick Bites</td>\n",
       "      <td>Camp Area</td>\n",
       "      <td>3.4</td>\n",
       "      <td>-61</td>\n",
       "      <td>4.1</td>\n",
       "      <td>-665</td>\n",
       "      <td>Momos,Chinese,</td>\n",
       "      <td>400</td>\n",
       "      <td>NaN</td>\n",
       "    </tr>\n",
       "    <tr>\n",
       "      <th>5185</th>\n",
       "      <td>Sahare Dining Hall\\r\\n                        ...</td>\n",
       "      <td>Quick Bites</td>\n",
       "      <td>Camp Area</td>\n",
       "      <td>4.0</td>\n",
       "      <td>-149</td>\n",
       "      <td>4.2</td>\n",
       "      <td>-367</td>\n",
       "      <td>North Indian,</td>\n",
       "      <td>400</td>\n",
       "      <td>Malpua, Gujarati Kadhi, Rajasthani Thali, Khic...</td>\n",
       "    </tr>\n",
       "    <tr>\n",
       "      <th>5262</th>\n",
       "      <td>Al Nayaab\\r\\n</td>\n",
       "      <td>Quick Bites</td>\n",
       "      <td>Camp Area</td>\n",
       "      <td>3.7</td>\n",
       "      <td>-221</td>\n",
       "      <td>3.6</td>\n",
       "      <td>-4,690</td>\n",
       "      <td>Chinese,Naga,Mughlai,North Indian,</td>\n",
       "      <td>500</td>\n",
       "      <td>Tandoori Chicken</td>\n",
       "    </tr>\n",
       "    <tr>\n",
       "      <th>5349</th>\n",
       "      <td>Sukh Sagar\\r\\n                                ...</td>\n",
       "      <td>Casual Dining</td>\n",
       "      <td>Camp Area</td>\n",
       "      <td>3.7</td>\n",
       "      <td>-67</td>\n",
       "      <td>4.1</td>\n",
       "      <td>-242</td>\n",
       "      <td>Malwani,Chinese,North Indian,Fast Food,Street ...</td>\n",
       "      <td>700</td>\n",
       "      <td>Pav Bhaji, Pizza</td>\n",
       "    </tr>\n",
       "  </tbody>\n",
       "</table>\n",
       "<p>87 rows × 10 columns</p>\n",
       "</div>"
      ],
      "text/plain": [
       "                                              rest_name          rest_type  \\\n",
       "247   Mahesh Lunch Home\\r\\r\\n                       ...  Casual Dining,Bar   \n",
       "437   Dolchii\\r\\r\\n                                          Casual Dining   \n",
       "509   Coconut Grove Resto-Bar\\r\\r\\n                 ...  Casual Dining,Bar   \n",
       "522   Status Family Rest-O-Bar\\r\\r\\n                ...      Casual Dining   \n",
       "626   Mazdana Restaurant & Bar\\r\\r\\n                ...  Casual Dining,Bar   \n",
       "...                                                 ...                ...   \n",
       "5072  Hotel Preetam\\r\\n                             ...      Casual Dining   \n",
       "5123  Raje Chinese Restaurant\\r\\n                   ...        Quick Bites   \n",
       "5185  Sahare Dining Hall\\r\\n                        ...        Quick Bites   \n",
       "5262  Al Nayaab\\r\\n                                            Quick Bites   \n",
       "5349  Sukh Sagar\\r\\n                                ...      Casual Dining   \n",
       "\n",
       "            loc  dine_rating   dine_reviews  delivery_rating delivery_reviews  \\\n",
       "247   Camp Area          4.1           -599              4.2             -139   \n",
       "437   Camp Area          3.4  (250 Reviews)              NaN              NaN   \n",
       "509   Camp Area          4.2           -356              3.9             -461   \n",
       "522   Camp Area          4.1           -276              4.0             -262   \n",
       "626   Camp Area          3.9   (88 Reviews)              NaN              NaN   \n",
       "...         ...          ...            ...              ...              ...   \n",
       "5072  Camp Area          3.6    (5 Reviews)              NaN              NaN   \n",
       "5123  Camp Area          3.4            -61              4.1             -665   \n",
       "5185  Camp Area          4.0           -149              4.2             -367   \n",
       "5262  Camp Area          3.7           -221              3.6           -4,690   \n",
       "5349  Camp Area          3.7            -67              4.1             -242   \n",
       "\n",
       "                                                cuisine  Cost (RS)  \\\n",
       "247                       Chinese,North Indian,Seafood,       1500   \n",
       "437                   Continental,Chinese,North Indian,       1300   \n",
       "509         North Indian,Chettinad,Seafood,Mangalorean,       1200   \n",
       "522               Chinese,Italian,Mughlai,North Indian,       1200   \n",
       "626   Maharashtrian,Chinese,Bar Food,North Indian,Co...       1100   \n",
       "...                                                 ...        ...   \n",
       "5072              Biryani,Malwani,Chinese,North Indian,        600   \n",
       "5123                                     Momos,Chinese,        400   \n",
       "5185                                      North Indian,        400   \n",
       "5262                 Chinese,Naga,Mughlai,North Indian,        500   \n",
       "5349  Malwani,Chinese,North Indian,Fast Food,Street ...        700   \n",
       "\n",
       "                                                  liked  \n",
       "247   Sea Food, Fish, Neer Dosa, Masala Prawn, Appam...  \n",
       "437   Mocktails, Mojito, Tikka, Chole Bhature, Panee...  \n",
       "509   Sea Food, Fish, Neer Dosa, Appam, Biryani, Moc...  \n",
       "522   Chocolate Mousse, Biryani, Butter Chicken, Rot...  \n",
       "626                                                 NaN  \n",
       "...                                                 ...  \n",
       "5072                                                NaN  \n",
       "5123                                                NaN  \n",
       "5185  Malpua, Gujarati Kadhi, Rajasthani Thali, Khic...  \n",
       "5262                                   Tandoori Chicken  \n",
       "5349                                   Pav Bhaji, Pizza  \n",
       "\n",
       "[87 rows x 10 columns]"
      ]
     },
     "execution_count": 24,
     "metadata": {},
     "output_type": "execute_result"
    }
   ],
   "source": [
    "df[df[\"loc\"]==\"Camp Area\"]\n",
    "#this query is giving me all the restaurant which belongs to camp area"
   ]
  },
  {
   "cell_type": "code",
   "execution_count": 103,
   "metadata": {},
   "outputs": [
    {
     "data": {
      "text/plain": [
       "0.0    566\n",
       "3.9    495\n",
       "3.8    384\n",
       "4.0    375\n",
       "3.7    345\n",
       "3.6    326\n",
       "4.1    309\n",
       "4.2    270\n",
       "3.5    270\n",
       "3.4    241\n",
       "Name: dine_rating, dtype: int64"
      ]
     },
     "execution_count": 103,
     "metadata": {},
     "output_type": "execute_result"
    }
   ],
   "source": [
    "dine=df['dine_rating'].value_counts()\n",
    "dine=dine.iloc[0:10] #index location\n",
    "dine"
   ]
  },
  {
   "cell_type": "code",
   "execution_count": 105,
   "metadata": {
    "scrolled": true
   },
   "outputs": [
    {
     "data": {
      "text/plain": [
       "<Axes: xlabel='dine_rating', ylabel='Count'>"
      ]
     },
     "execution_count": 105,
     "metadata": {},
     "output_type": "execute_result"
    },
    {
     "data": {
      "image/png": "[encoded data removed]",
      "text/plain": [
       "<Figure size 400x400 with 1 Axes>"
      ]
     },
     "metadata": {},
     "output_type": "display_data"
    }
   ],
   "source": [
    "#bar plot\n",
    "\n",
    "plt.figure(figsize=(4,4))\n",
    "\n",
    "plt.xlabel(\"dine_rating\")\n",
    "plt.ylabel(\"Count\")\n",
    "sns.barplot(x=dine.index,y=dine.values)\n",
    "#sns.barplot(x,y)"
   ]
  },
  {
   "cell_type": "code",
   "execution_count": 27,
   "metadata": {},
   "outputs": [
    {
     "name": "stdout",
     "output_type": "stream",
     "text": [
      "3.9    446\n",
      "3.8    280\n",
      "4.0    242\n",
      "4.1    227\n",
      "3.7    212\n",
      "4.2    172\n",
      "3.6    164\n",
      "3.5    123\n",
      "4.3     96\n",
      "3.4     90\n",
      "3.3     88\n",
      "4.4     58\n",
      "3.2     58\n",
      "3.1     37\n",
      "4.5     36\n",
      "3.0     24\n",
      "4.6     18\n",
      "2.9     13\n",
      "2.7      7\n",
      "2.6      6\n",
      "2.8      6\n",
      "4.7      3\n",
      "4.8      1\n",
      "2.0      1\n",
      "2.2      1\n",
      "Name: delivery_rating, dtype: int64\n"
     ]
    },
    {
     "data": {
      "text/plain": [
       "<Axes: xlabel='delievery_rating', ylabel='Count'>"
      ]
     },
     "execution_count": 27,
     "metadata": {},
     "output_type": "execute_result"
    },
    {
     "data": {
      "image/png": "[encoded data removed]",
      "text/plain": [
       "<Figure size 1500x1000 with 1 Axes>"
      ]
     },
     "metadata": {},
     "output_type": "display_data"
    }
   ],
   "source": [
    "dine2=df['delivery_rating'].value_counts()\n",
    "print(dine2)\n",
    "plt.figure(figsize=(15,10))\n",
    "\n",
    "plt.xlabel(\"delievery_rating\")\n",
    "plt.ylabel(\"Count\")\n",
    "sns.barplot(x=dine2.index,y=dine2.values)\n",
    "#sns.barplot(x,y)"
   ]
  },
  {
   "cell_type": "markdown",
   "metadata": {},
   "source": [
    "# Observation\n",
    "\n",
    "1. Most of the restarants have an average of 3.9 rating.\n",
    "\n",
    "\n",
    "2. There are lots of restaurants which got 0 ratings.\n",
    "\n"
   ]
  },
  {
   "cell_type": "code",
   "execution_count": 116,
   "metadata": {},
   "outputs": [
    {
     "name": "stdout",
     "output_type": "stream",
     "text": [
      "3.1\n",
      "3.7\n",
      "4.0\n",
      "4.9\n",
      "2.0\n"
     ]
    }
   ],
   "source": [
    "import numpy as np\n",
    "twenty_five=np.percentile(df[\"dine_rating\"],25)\n",
    "\n",
    "fivty=np.percentile(df[\"dine_rating\"],50)\n",
    "seventy_five=np.percentile(df[\"dine_rating\"],75)\n",
    "Max=np.percentile(df[\"dine_rating\"],100)\n",
    "eleven=np.percentile(df[\"dine_rating\"],11)\n",
    "#eleven % of the restaurants have rating<2\n",
    "#10% of the restaurnats have rating=0\n",
    "\n",
    "print(twenty_five) #25% of the restaurants lie below 3.1 rating.\n",
    "print(fivty) #50% of restaurants lie below 3.7\n",
    "print(seventy_five)#75% of the restaurants lie below 4\n",
    "print(Max)\n",
    "print(eleven)"
   ]
  },
  {
   "cell_type": "code",
   "execution_count": 28,
   "metadata": {
    "scrolled": true
   },
   "outputs": [
    {
     "data": {
      "text/plain": [
       "<Axes: >"
      ]
     },
     "execution_count": 28,
     "metadata": {},
     "output_type": "execute_result"
    },
    {
     "data": {
      "image/png": "[encoded data removed]",
      "text/plain": [
       "<Figure size 640x480 with 1 Axes>"
      ]
     },
     "metadata": {},
     "output_type": "display_data"
    }
   ],
   "source": [
    "#box plot\n",
    "\n",
    "sns.boxplot(df['dine_rating'])\n",
    "#sns.boxplot"
   ]
  },
  {
   "cell_type": "markdown",
   "metadata": {},
   "source": [
    "# Observation\n",
    "\n",
    "1. 25% of the restaurants have dine ratings less than 3.\n",
    "\n",
    "\n",
    "2. 50% of the restaurants have dine ratings approximately less than 3.8.\n",
    "\n",
    "\n",
    "3. 75% of the restaurants have dine rating less than 4.\n",
    "\n",
    "\n",
    "4. 50% of the restaurants have rating between 3 to 4 and thats a good news for a company like Zomato."
   ]
  },
  {
   "cell_type": "markdown",
   "metadata": {},
   "source": [
    "# Feature-2(Rest_type- Restaurant_type)"
   ]
  },
  {
   "cell_type": "code",
   "execution_count": 29,
   "metadata": {},
   "outputs": [
    {
     "data": {
      "text/plain": [
       "Quick Bites                   1467\n",
       "Casual Dining                  911\n",
       "Bakery                         329\n",
       "Dessert Parlor                 308\n",
       "Casual Dining,Bar              241\n",
       "                              ... \n",
       "Casual Dining,Bakery             1\n",
       "Kiosk,Quick Bites                1\n",
       "Dhaba,Bar                        1\n",
       "Microbrewery,Casual Dining       1\n",
       "Paan Shop                        1\n",
       "Name: rest_type, Length: 66, dtype: int64"
      ]
     },
     "execution_count": 29,
     "metadata": {},
     "output_type": "execute_result"
    }
   ],
   "source": [
    "df['rest_type'].value_counts()"
   ]
  },
  {
   "cell_type": "code",
   "execution_count": 30,
   "metadata": {},
   "outputs": [
    {
     "name": "stdout",
     "output_type": "stream",
     "text": [
      "67\n"
     ]
    }
   ],
   "source": [
    "print(len(df['rest_type'].unique()))"
   ]
  },
  {
   "cell_type": "markdown",
   "metadata": {},
   "source": [
    "There are 67 types of restaurant types in pune"
   ]
  },
  {
   "cell_type": "code",
   "execution_count": 31,
   "metadata": {
    "scrolled": false
   },
   "outputs": [
    {
     "data": {
      "text/plain": [
       "Quick Bites                   1467\n",
       "Casual Dining                  911\n",
       "Bakery                         329\n",
       "Dessert Parlor                 308\n",
       "Casual Dining,Bar              241\n",
       "                              ... \n",
       "Casual Dining,Bakery             1\n",
       "Kiosk,Quick Bites                1\n",
       "Dhaba,Bar                        1\n",
       "Microbrewery,Casual Dining       1\n",
       "Paan Shop                        1\n",
       "Name: rest_type, Length: 66, dtype: int64"
      ]
     },
     "execution_count": 31,
     "metadata": {},
     "output_type": "execute_result"
    }
   ],
   "source": [
    "#lets count the number of each Type\n",
    "df['rest_type'].value_counts()"
   ]
  },
  {
   "cell_type": "markdown",
   "metadata": {},
   "source": [
    "# Which Types of restaurants are leaders in pune?"
   ]
  },
  {
   "cell_type": "code",
   "execution_count": 117,
   "metadata": {},
   "outputs": [
    {
     "name": "stdout",
     "output_type": "stream",
     "text": [
      "Quick Bites              2494\n",
      "Casual Dining             911\n",
      "Bakery                    329\n",
      "Dessert Parlor            308\n",
      "Casual Dining,Bar         241\n",
      "Café                      204\n",
      "Bar,Casual Dining         126\n",
      "Bakery,Dessert Parlor      69\n",
      "Sweet Shop                 54\n",
      "Beverage Shop              54\n",
      "Name: rest_type, dtype: int64\n"
     ]
    }
   ],
   "source": [
    "rest_type_values=df['rest_type'].value_counts()[:10]\n",
    "print(rest_type_values)"
   ]
  },
  {
   "cell_type": "code",
   "execution_count": 118,
   "metadata": {},
   "outputs": [
    {
     "data": {
      "text/plain": [
       "<Axes: >"
      ]
     },
     "execution_count": 118,
     "metadata": {},
     "output_type": "execute_result"
    },
    {
     "data": {
      "image/png": "[encoded data removed]",
      "text/plain": [
       "<Figure size 1500x800 with 1 Axes>"
      ]
     },
     "metadata": {},
     "output_type": "display_data"
    }
   ],
   "source": [
    "plt.figure(figsize=(15,8))\n",
    "\n",
    "sns.barplot(x=rest_type_values.values,y=rest_type_values.index)"
   ]
  },
  {
   "cell_type": "markdown",
   "metadata": {},
   "source": [
    "We can see, there are mostly quick bites restaurants, followed by casual dining and bakery"
   ]
  },
  {
   "cell_type": "code",
   "execution_count": 119,
   "metadata": {},
   "outputs": [
    {
     "data": {
      "text/plain": [
       "(-1.099999608075319, 1.09999998133692, -1.0999999942052916, 1.0999999084907637)"
      ]
     },
     "execution_count": 119,
     "metadata": {},
     "output_type": "execute_result"
    },
    {
     "data": {
      "image/png": "[encoded data removed]",
      "text/plain": [
       "<Figure size 640x480 with 1 Axes>"
      ]
     },
     "metadata": {},
     "output_type": "display_data"
    }
   ],
   "source": [
    "#pie chart\n",
    "\n",
    "\n",
    "labels = rest_type_values.index\n",
    "sizes =rest_type_values.values \n",
    "\n",
    "plt.pie(sizes, labels=labels,autopct='%1.2f%%')\n",
    "plt.axis('equal')"
   ]
  },
  {
   "cell_type": "markdown",
   "metadata": {},
   "source": [
    "# Observation\n",
    "\n",
    "1. 39% of the restaurants in pune are Quick bites.\n",
    "\n",
    "\n",
    "2. 24.2% of the restaurants in pune are Casual dining.\n",
    "\n",
    "\n",
    "3. 8.7 % of the restaurants in pune are Bakeries."
   ]
  },
  {
   "cell_type": "markdown",
   "metadata": {},
   "source": [
    "# Feature-3(Cuisines)"
   ]
  },
  {
   "cell_type": "code",
   "execution_count": 120,
   "metadata": {},
   "outputs": [
    {
     "data": {
      "text/plain": [
       "0       North Indian,Continental,Asian,Finger Food,\n",
       "1                             North Indian,Mughlai,\n",
       "2                 Mediterranean,Asian,North Indian,\n",
       "3                      Asian,European,North Indian,\n",
       "4                          Finger Food,Continental,\n",
       "                           ...                     \n",
       "5428             South Indian,Chinese,North Indian,\n",
       "5429                               Mughlai,Iranian,\n",
       "5430                Chinese,Fast Food,North Indian,\n",
       "5431       Beverages,Chinese,Street Food,Fast Food,\n",
       "5432                                  Thai,Chinese,\n",
       "Name: cuisine, Length: 5183, dtype: object"
      ]
     },
     "execution_count": 120,
     "metadata": {},
     "output_type": "execute_result"
    }
   ],
   "source": [
    "# we can see that a restaurant can have multiple cuisine\n",
    "df['cuisine']"
   ]
  },
  {
   "cell_type": "markdown",
   "metadata": {},
   "source": [
    "# Lets see what all cuisine Pune serves to us..."
   ]
  },
  {
   "cell_type": "code",
   "execution_count": 121,
   "metadata": {
    "scrolled": true
   },
   "outputs": [
    {
     "name": "stdout",
     "output_type": "stream",
     "text": [
      "['North Indian', 'Continental', 'Asian', 'Finger Food', '', 'Mughlai', 'Mediterranean', 'European', 'Salad', 'Malaysian', 'Vietnamese', 'Thai', 'Chinese', 'Japanese', 'Biryani', 'Kebab', 'Italian', 'Bar Food', 'Seafood', 'Fast Food', 'Healthy Food', 'Mexican', 'Desserts', 'American', 'Greek', 'Maharashtrian', 'Beverages', 'South American', 'Steak', 'Brazilian', 'Malwani', 'South Indian', 'Chettinad', 'Kerala', 'Mangalorean', 'Pizza', 'Iranian', 'Goan', 'Charcoal Chicken', 'Cafe', 'Modern Indian', 'Korean', 'Sushi', 'Cantonese', 'Momos', 'Bakery', 'Tea', 'BBQ', 'Mongolian', 'Tex-Mex', 'Lebanese', 'Street Food', 'Cuisine Varies', 'Sandwich', 'Middle Eastern', 'African', 'Ethiopian', 'Burger', 'Hyderabadi', 'Parsi', 'German', 'Konkan', 'Rolls', 'Singaporean', 'Indonesian', 'Rajasthani', 'Lucknowi', 'Burmese', 'Bengali', 'Ice Cream', 'Kashmiri', 'Arabian', 'Gujarati', 'French', 'Tibetan', 'Coffee', 'Mithai', 'Bihari', 'Wraps', 'Odia', 'Juices', 'Raw Meats', 'Turkish', 'Frozen Yogurt', 'Awadhi', 'Afghan', 'Paan', 'Assamese', 'Andhra', 'Panini', 'Mishti', 'Naga']\n",
      "92\n"
     ]
    }
   ],
   "source": [
    "#NUMBER OF CUISINE IN PUNE\n",
    "cuisine=[]\n",
    "for i in df['cuisine']:\n",
    "    for j in i.split(\",\"):\n",
    "        if j not in cuisine:\n",
    "            cuisine.append(j)\n",
    "print(cuisine)\n",
    "print(len(cuisine))\n",
    "\n",
    "#there are 92 total cuisine in all the restaurant in pune"
   ]
  },
  {
   "cell_type": "code",
   "execution_count": null,
   "metadata": {},
   "outputs": [],
   "source": []
  },
  {
   "cell_type": "markdown",
   "metadata": {},
   "source": [
    "We can see there are lots of cuisines in pune, some of them are are not cuisines like Coffee, Mithai etc but in data we have it like that\n"
   ]
  },
  {
   "cell_type": "markdown",
   "metadata": {},
   "source": [
    "# Total number of restaurants serving biryani in Pune"
   ]
  },
  {
   "cell_type": "code",
   "execution_count": null,
   "metadata": {
    "scrolled": true
   },
   "outputs": [],
   "source": [
    "count=0\n",
    "for i in df['cuisine']:\n",
    "    for j in i.split(\",\"):\n",
    "        if j ==\"Biryani\":\n",
    "            count=count+1\n",
    "print(count)\n",
    "\n",
    "#There are 566 restaurant in pune which serves biryani"
   ]
  },
  {
   "cell_type": "code",
   "execution_count": null,
   "metadata": {},
   "outputs": [],
   "source": [
    "dfnew=df[[\"cuisine\",\"rest_name\"]]\n",
    "dfnew.head(30)"
   ]
  },
  {
   "cell_type": "markdown",
   "metadata": {},
   "source": [
    "# Total number of restaurants serving North Indian Food in Pune"
   ]
  },
  {
   "cell_type": "code",
   "execution_count": null,
   "metadata": {},
   "outputs": [],
   "source": [
    "count=0\n",
    "for i in df['cuisine']:\n",
    "    for j in i.split(\",\"):\n",
    "        if j ==\"North Indian\":\n",
    "            count=count+1\n",
    "print(count)\n",
    "\n",
    "#There are 2057 restaurants out of 5183 restaurants(almost 40%) which serves North Indian Food"
   ]
  },
  {
   "cell_type": "code",
   "execution_count": 122,
   "metadata": {},
   "outputs": [
    {
     "name": "stdout",
     "output_type": "stream",
     "text": [
      " 5183\n",
      "North Indian 2057\n",
      "Chinese 1431\n",
      "Fast Food 1419\n",
      "Beverages 1058\n",
      "Desserts 996\n",
      "Bakery 581\n",
      "Biryani 566\n",
      "Street Food 494\n",
      "Mughlai 493\n",
      "Continental 478\n",
      "Italian 461\n",
      "Maharashtrian 395\n",
      "South Indian 358\n",
      "Ice Cream 328\n",
      "Pizza 326\n",
      "Sandwich 279\n",
      "Cafe 269\n",
      "Asian 251\n",
      "Seafood 233\n",
      "Burger 217\n",
      "Salad 164\n",
      "Finger Food 154\n",
      "Rolls 145\n",
      "Kebab 130\n",
      "Thai 120\n",
      "Malwani 115\n",
      "Healthy Food 109\n",
      "Mexican 98\n",
      "European 83\n",
      "Mithai 83\n",
      "Wraps 77\n",
      "Tea 72\n",
      "American 71\n",
      "Momos 67\n",
      "Bar Food 55\n",
      "Lebanese 55\n",
      "Modern Indian 46\n",
      "Coffee 44\n",
      "Hyderabadi 37\n",
      "Japanese 33\n",
      "Mediterranean 27\n",
      "Bengali 27\n",
      "Mangalorean 22\n",
      "Sushi 21\n",
      "Goan 19\n",
      "BBQ 17\n",
      "Juices 17\n",
      "Kerala 15\n",
      "Korean 15\n",
      "Rajasthani 15\n",
      "Arabian 14\n",
      "Malaysian 11\n",
      "Gujarati 11\n",
      "Konkan 10\n",
      "Tibetan 10\n",
      "Lucknowi 9\n",
      "Iranian 8\n",
      "German 8\n",
      "Steak 7\n",
      "Parsi 7\n",
      "Vietnamese 6\n",
      "Chettinad 6\n",
      "Andhra 6\n",
      "Panini 5\n",
      "Brazilian 4\n",
      "Charcoal Chicken 4\n",
      "Cuisine Varies 4\n",
      "Indonesian 4\n",
      "French 4\n",
      "Afghan 4\n",
      "Middle Eastern 3\n",
      "Singaporean 3\n",
      "Kashmiri 3\n",
      "Odia 3\n",
      "Awadhi 3\n",
      "South American 2\n",
      "Burmese 2\n",
      "Bihari 2\n",
      "Assamese 2\n",
      "Greek 1\n",
      "Cantonese 1\n",
      "Mongolian 1\n",
      "Tex-Mex 1\n",
      "African 1\n",
      "Ethiopian 1\n",
      "Raw Meats 1\n",
      "Turkish 1\n",
      "Frozen Yogurt 1\n",
      "Paan 1\n",
      "Mishti 1\n",
      "Naga 1\n"
     ]
    }
   ],
   "source": [
    "list_res=[]\n",
    "d={}\n",
    "for i in df[\"cuisine\"]:\n",
    "    for j in i.split(\",\"):\n",
    "        list_res.append(j)\n",
    "\n",
    "        \n",
    "for i in list_res:\n",
    "    if i in d:\n",
    "        d[i]=d[i]+1\n",
    "    else:\n",
    "        d[i]=1\n",
    "        \n",
    "for w in sorted(d, key=d.get, reverse=True):\n",
    "    print(w,d[w]) #this is the way in your code to sort the keys of a\n",
    "    #dictionaries according to the values.\n",
    "    \n",
    "\n",
    "#you have created a dictionary in this case, and every key in the dictionary is the cuisine\n",
    "#and every value in the dictionary is in the number of restaurants which are serving those cuisine.\n",
    "        \n",
    "#frequenct question--use dictionary"
   ]
  },
  {
   "cell_type": "markdown",
   "metadata": {},
   "source": [
    "# Feature-4(loc-location where the restaurant is situated)"
   ]
  },
  {
   "cell_type": "code",
   "execution_count": 123,
   "metadata": {},
   "outputs": [
    {
     "name": "stdout",
     "output_type": "stream",
     "text": [
      "Kothrud            264\n",
      "Wakad              225\n",
      "Viman Nagar        224\n",
      "Baner              219\n",
      "Hinjawadi          213\n",
      "Hadapsar           183\n",
      "Kharadi            180\n",
      "Sinhgad Road       142\n",
      "Pimple Saudagar    134\n",
      "Koregaon Park      123\n",
      "Name: loc, dtype: int64\n"
     ]
    }
   ],
   "source": [
    "total_locations=df['loc'].value_counts()\n",
    "top_total_locations=df['loc'].value_counts()[:10]\n",
    "print(top_total_locations)\n",
    "\n",
    "places=top_total_locations.index\n",
    "\n",
    "#these are the location with the maximum number of restaurants in pune"
   ]
  },
  {
   "cell_type": "code",
   "execution_count": 126,
   "metadata": {},
   "outputs": [
    {
     "data": {
      "text/plain": [
       "<Axes: xlabel='loc'>"
      ]
     },
     "execution_count": 126,
     "metadata": {},
     "output_type": "execute_result"
    },
    {
     "data": {
      "image/png": "[encoded data removed]",
      "text/plain": [
       "<Figure size 640x480 with 1 Axes>"
      ]
     },
     "metadata": {},
     "output_type": "display_data"
    }
   ],
   "source": [
    "sns.barplot(x=top_total_locations,y=places)"
   ]
  },
  {
   "cell_type": "markdown",
   "metadata": {},
   "source": [
    "# Observation\n",
    "\n",
    "Kothrud has the maximum number of restaurants followed by wakad and viman nagar"
   ]
  },
  {
   "cell_type": "code",
   "execution_count": 127,
   "metadata": {},
   "outputs": [
    {
     "data": {
      "text/plain": [
       "(-1.099999935879402,\n",
       " 1.099999996946638,\n",
       " -1.0999999900099309,\n",
       " 1.0999999801511582)"
      ]
     },
     "execution_count": 127,
     "metadata": {},
     "output_type": "execute_result"
    },
    {
     "data": {
      "image/png": "[encoded data removed]",
      "text/plain": [
       "<Figure size 640x480 with 1 Axes>"
      ]
     },
     "metadata": {},
     "output_type": "display_data"
    }
   ],
   "source": [
    "labels = top_total_locations.index\n",
    "sizes =top_total_locations.values \n",
    "\n",
    "plt.pie(sizes, labels=labels, autopct='%1.1f%%',\n",
    "        shadow=True)\n",
    "plt.axis('equal')"
   ]
  },
  {
   "cell_type": "markdown",
   "metadata": {},
   "source": [
    "# Observation\n",
    "\n",
    "1. Kothrud covers 13.8% of top 10 locations in pune.\n",
    "\n",
    "\n",
    "2. Viman Nagar and Baner covers almost 11.5% of the top 10 locations in pune"
   ]
  },
  {
   "cell_type": "markdown",
   "metadata": {},
   "source": [
    "# FEATURE-5(delivery_rating)"
   ]
  },
  {
   "cell_type": "code",
   "execution_count": null,
   "metadata": {},
   "outputs": [],
   "source": [
    "deliver=df['delivery_rating'].value_counts()\n",
    "deliver"
   ]
  },
  {
   "cell_type": "code",
   "execution_count": null,
   "metadata": {},
   "outputs": [],
   "source": [
    "plt.figure(figsize=(15,8))\n",
    "\n",
    "\n",
    "sns.barplot(deliver.index,deliver)"
   ]
  },
  {
   "cell_type": "markdown",
   "metadata": {},
   "source": [
    "# Observation\n",
    "\n",
    "1.Most of the restaurant gets 3.9 delievery rating\n",
    "\n",
    "2.There are very few restaurants who get less than 2.5 rating.\n",
    "\n"
   ]
  },
  {
   "cell_type": "code",
   "execution_count": null,
   "metadata": {},
   "outputs": [],
   "source": [
    "#lets plot the histogram\n",
    "plt.hist(df['delivery_rating'])\n",
    "plt.xlabel(\"delivery_rating\")\n",
    "plt.ylabel(\"count of restaurants\")\n",
    "\n"
   ]
  },
  {
   "cell_type": "code",
   "execution_count": null,
   "metadata": {},
   "outputs": [],
   "source": [
    "#box plot\n",
    "\n",
    "sns.boxplot(df['delivery_rating'])"
   ]
  },
  {
   "cell_type": "markdown",
   "metadata": {},
   "source": [
    "# Observation\n",
    "\n",
    "1. 25% of the delivery rating is less than 3.5\n",
    "\n",
    "\n",
    "2. 50% of the delivery rating is less than 2.9\n",
    "\n",
    "\n",
    "3. 75% of the delivery rating is less than 4.2\n",
    "\n",
    "\n",
    "4. We can clearly observe that 50% of the delivery rating lies between 3.6 to 4.1 and thats a good news for Zomato."
   ]
  },
  {
   "cell_type": "code",
   "execution_count": null,
   "metadata": {},
   "outputs": [],
   "source": [
    "df.columns"
   ]
  },
  {
   "cell_type": "markdown",
   "metadata": {
    "scrolled": true
   },
   "source": [
    "# Feature-5 Cost (RS)\n",
    "\n",
    "We are assuming that this is the average cost of 2 people.\n"
   ]
  },
  {
   "cell_type": "code",
   "execution_count": 131,
   "metadata": {},
   "outputs": [
    {
     "data": {
      "text/plain": [
       "300     759\n",
       "400     624\n",
       "500     525\n",
       "200     352\n",
       "600     321\n",
       "350     313\n",
       "250     217\n",
       "150     198\n",
       "700     185\n",
       "1200    176\n",
       "1000    172\n",
       "550     170\n",
       "450     150\n",
       "1500    140\n",
       "800     133\n",
       "Name: Cost (RS), dtype: int64"
      ]
     },
     "execution_count": 131,
     "metadata": {},
     "output_type": "execute_result"
    }
   ],
   "source": [
    "cost=df['Cost (RS)'].value_counts()[:15]\n",
    "cost"
   ]
  },
  {
   "cell_type": "code",
   "execution_count": 132,
   "metadata": {},
   "outputs": [
    {
     "data": {
      "text/plain": [
       "<Axes: ylabel='Cost (RS)'>"
      ]
     },
     "execution_count": 132,
     "metadata": {},
     "output_type": "execute_result"
    },
    {
     "data": {
      "image/png": "[encoded data removed]",
      "text/plain": [
       "<Figure size 1500x800 with 1 Axes>"
      ]
     },
     "metadata": {},
     "output_type": "display_data"
    }
   ],
   "source": [
    "plt.figure(figsize=(15,8))\n",
    "\n",
    "\n",
    "sns.barplot(x=cost.index,y=cost)"
   ]
  },
  {
   "cell_type": "markdown",
   "metadata": {},
   "source": [
    "# Observation\n",
    "\n",
    "1. There are 759 restaurants which that cost Rs300 for 2 people.\n",
    "\n",
    "\n",
    "2. There are 624 restaurants which that cost Rs400 for 2 people."
   ]
  },
  {
   "cell_type": "code",
   "execution_count": 133,
   "metadata": {},
   "outputs": [
    {
     "data": {
      "text/plain": [
       "(array([2.717e+03, 1.404e+03, 5.750e+02, 3.060e+02, 1.200e+02, 3.400e+01,\n",
       "        2.000e+01, 5.000e+00, 1.000e+00, 1.000e+00]),\n",
       " array([  50.,  475.,  900., 1325., 1750., 2175., 2600., 3025., 3450.,\n",
       "        3875., 4300.]),\n",
       " <BarContainer object of 10 artists>)"
      ]
     },
     "execution_count": 133,
     "metadata": {},
     "output_type": "execute_result"
    },
    {
     "data": {
      "image/png": "[encoded data removed]",
      "text/plain": [
       "<Figure size 640x480 with 1 Axes>"
      ]
     },
     "metadata": {},
     "output_type": "display_data"
    }
   ],
   "source": [
    "#lets plot the histogram\n",
    "plt.hist(df['Cost (RS)'])\n",
    "\n",
    "\n"
   ]
  },
  {
   "cell_type": "code",
   "execution_count": 136,
   "metadata": {},
   "outputs": [
    {
     "name": "stdout",
     "output_type": "stream",
     "text": [
      "700.0\n"
     ]
    },
    {
     "data": {
      "image/png": "[encoded data removed]",
      "text/plain": [
       "<Figure size 640x480 with 1 Axes>"
      ]
     },
     "metadata": {},
     "output_type": "display_data"
    }
   ],
   "source": [
    "sns.boxplot(df['Cost (RS)'])\n",
    "print(np.percentile(df['Cost (RS)'],75))\n",
    "#75% of the restaurants in pune have average cost<700 rs for 2 people."
   ]
  },
  {
   "cell_type": "markdown",
   "metadata": {},
   "source": [
    "# Observation\n",
    "\n",
    "1. 25% of the restaurants cost less than 300 rupees for 2 people.\n",
    "\n",
    "\n",
    "2. 50% of the restaurants cost less than 400 rupees for 2 people.\n",
    "\n",
    "\n",
    "3. 75% of the restaurants cost less than 850 rupees for 2 people.\n",
    "\n",
    "\n",
    "4. Obviously there are some outliers restaurants which cost more than 2000 , some even cost 5000.\n"
   ]
  },
  {
   "cell_type": "code",
   "execution_count": 140,
   "metadata": {},
   "outputs": [
    {
     "data": {
      "text/plain": [
       "<Axes: xlabel='Cost (RS)', ylabel='dine_rating'>"
      ]
     },
     "execution_count": 140,
     "metadata": {},
     "output_type": "execute_result"
    },
    {
     "data": {
      "image/png": "[encoded data removed]",
      "text/plain": [
       "<Figure size 640x480 with 1 Axes>"
      ]
     },
     "metadata": {},
     "output_type": "display_data"
    }
   ],
   "source": [
    "#scatter plot\n",
    "sns.scatterplot(x=df[\"Cost (RS)\"],y=df[\"dine_rating\"])\n",
    "\n",
    "#every point is telling you about one restaurant.\n",
    "#scatter plot is always between 2 numerical columns"
   ]
  },
  {
   "cell_type": "markdown",
   "metadata": {},
   "source": [
    "# Observation\n",
    "\n",
    "1. There are obviously more ratings for the food which cost less than Rs500.\n",
    "\n",
    "\n",
    "2. There are also restaurants which cost almost 2000 but has delivery_rating less than 3."
   ]
  },
  {
   "cell_type": "code",
   "execution_count": 141,
   "metadata": {},
   "outputs": [
    {
     "data": {
      "text/plain": [
       "<Axes: xlabel='Cost (RS)', ylabel='dine_rating'>"
      ]
     },
     "execution_count": 141,
     "metadata": {},
     "output_type": "execute_result"
    },
    {
     "data": {
      "image/png": "[encoded data removed]",
      "text/plain": [
       "<Figure size 640x480 with 1 Axes>"
      ]
     },
     "metadata": {},
     "output_type": "display_data"
    }
   ],
   "source": [
    "sns.scatterplot(x=df[\"Cost (RS)\"],y=df[\"dine_rating\"])"
   ]
  },
  {
   "cell_type": "markdown",
   "metadata": {},
   "source": [
    "# Observation\n",
    "\n",
    "1. Obviosly there are more ratings for the food which cost less than 1000.\n",
    "\n",
    "\n",
    "2. There are restaurants which does have rating irrespective of cost.\n",
    "\n",
    "\n",
    "3. As cost increases, rating moves to 3 to 5, it means people are rating high to costly restaurnts."
   ]
  },
  {
   "cell_type": "markdown",
   "metadata": {},
   "source": [
    "# Let's do some more Questions\n",
    "\n",
    "Q1. Create a dataframe for all the restaurants\n",
    "    which belong to KOTHRUD?\n",
    "    \n",
    "Q2. Which are the highly rated restaurants in BANER?\n",
    "\n",
    "Q3. Which are restaurtants which got 0 rating \n",
    "    the city PUNE?\n",
    "    \n",
    "Q4. Return the location in pune with the best restaurants?\n",
    "\n",
    "Q5. Plot the bar chart of top 10 locations rating wise in \n",
    "    pune?\n",
    "\n"
   ]
  },
  {
   "cell_type": "markdown",
   "metadata": {},
   "source": [
    "# Dataframe for all the restaurants which belong to KOTHRUD?"
   ]
  },
  {
   "cell_type": "code",
   "execution_count": null,
   "metadata": {},
   "outputs": [],
   "source": [
    "df[\"loc\"].value_counts()"
   ]
  },
  {
   "cell_type": "code",
   "execution_count": null,
   "metadata": {
    "scrolled": true
   },
   "outputs": [],
   "source": [
    "#q-1  Create a dataframe for all the restaurants which belong to KOTHRUD?\n",
    "#ques-2 create a dataframe which have all the restaurants which belongs to Fc\n",
    "#road and rating is greater than 4.\n",
    "#df_kothrud=df[(df['loc']=='Kothrud')]\n",
    "df_kothrud=df[(df['loc']=='Kothrud') & (df['dine_rating']>4) ]\n",
    "\n",
    "df_kothrud "
   ]
  },
  {
   "cell_type": "code",
   "execution_count": null,
   "metadata": {},
   "outputs": [],
   "source": [
    "df_kothrud.shape"
   ]
  },
  {
   "cell_type": "markdown",
   "metadata": {},
   "source": [
    "# HOW MANY RESTAURANTS IN KOTHRUD HAVE MORE THAN 4.2 RATING?\n",
    "\n"
   ]
  },
  {
   "cell_type": "code",
   "execution_count": null,
   "metadata": {},
   "outputs": [],
   "source": [
    "df_kothrud[df_kothrud['delivery_rating']>4.2]"
   ]
  },
  {
   "cell_type": "markdown",
   "metadata": {},
   "source": [
    "# TOP RATED RESTAURANTS IN BANER"
   ]
  },
  {
   "cell_type": "code",
   "execution_count": null,
   "metadata": {},
   "outputs": [],
   "source": [
    "df_baner=df[df['loc']=='Baner']\n",
    "df_baner"
   ]
  },
  {
   "cell_type": "code",
   "execution_count": null,
   "metadata": {},
   "outputs": [],
   "source": [
    "df_baner_top=df_baner[df_baner[\"dine_rating\"]>4.2]\n",
    "df_baner_top"
   ]
  },
  {
   "cell_type": "code",
   "execution_count": null,
   "metadata": {},
   "outputs": [],
   "source": [
    "print((df_baner_top['rest_name'].unique()))\n",
    "#there are duplicate restaurants\" "
   ]
  },
  {
   "cell_type": "markdown",
   "metadata": {},
   "source": [
    "we can see that some restaurants names are almost same but they are repeating.\n"
   ]
  },
  {
   "cell_type": "code",
   "execution_count": null,
   "metadata": {},
   "outputs": [],
   "source": [
    "#lets clean the strings\n",
    "baner_top_rest=[]\n",
    "for i in df_baner_top['rest_name'].unique():\n",
    "    i=i.strip()\n",
    "    baner_top_rest.append(i)\n",
    "\n"
   ]
  },
  {
   "cell_type": "code",
   "execution_count": null,
   "metadata": {},
   "outputs": [],
   "source": [
    "a=[1,2,3,4,4,4,4,5,5,6]\n",
    "b=set(a)\n",
    "print(list(b))"
   ]
  },
  {
   "cell_type": "code",
   "execution_count": null,
   "metadata": {},
   "outputs": [],
   "source": [
    "baner_top_rest\n",
    "#still there are duplicates in this, lets remove the duplicate values"
   ]
  },
  {
   "cell_type": "code",
   "execution_count": null,
   "metadata": {},
   "outputs": [],
   "source": [
    "#lets remove duplicates from the list\n",
    "baner_rest_top=[]\n",
    "for i in baner_top_rest:\n",
    "    if i not in baner_rest_top:\n",
    "        baner_rest_top.append(i)\n",
    "\n",
    "print(baner_rest_top)\n",
    "print(len(baner_rest_top))\n",
    "\n",
    "#simple set will also remove the duplicates."
   ]
  },
  {
   "cell_type": "markdown",
   "metadata": {},
   "source": [
    "There are 17 restaurants in baner which got rating more than 4.2"
   ]
  },
  {
   "cell_type": "markdown",
   "metadata": {},
   "source": [
    "# Restaurants which got 0 rating on Zomato in Pune."
   ]
  },
  {
   "cell_type": "code",
   "execution_count": null,
   "metadata": {},
   "outputs": [],
   "source": [
    "df_zero_rating=df[df['dine_rating']==0]\n",
    "df_zero_rating"
   ]
  },
  {
   "cell_type": "code",
   "execution_count": null,
   "metadata": {},
   "outputs": [],
   "source": [
    "df_zero_rating.shape"
   ]
  },
  {
   "cell_type": "markdown",
   "metadata": {},
   "source": [
    "There are 566 restaurants which got 0 ratings on zomato, may be these are new restaurants or may be not very popular."
   ]
  },
  {
   "cell_type": "markdown",
   "metadata": {},
   "source": [
    "# TOP 10 RESTAURANTS LOCATION IN PUNE"
   ]
  },
  {
   "cell_type": "code",
   "execution_count": 4,
   "metadata": {},
   "outputs": [
    {
     "data": {
      "text/html": [
       "<div>\n",
       "<style scoped>\n",
       "    .dataframe tbody tr th:only-of-type {\n",
       "        vertical-align: middle;\n",
       "    }\n",
       "\n",
       "    .dataframe tbody tr th {\n",
       "        vertical-align: top;\n",
       "    }\n",
       "\n",
       "    .dataframe thead th {\n",
       "        text-align: right;\n",
       "    }\n",
       "</style>\n",
       "<table border=\"1\" class=\"dataframe\">\n",
       "  <thead>\n",
       "    <tr style=\"text-align: right;\">\n",
       "      <th></th>\n",
       "      <th>dine_rating</th>\n",
       "      <th>loc</th>\n",
       "    </tr>\n",
       "  </thead>\n",
       "  <tbody>\n",
       "    <tr>\n",
       "      <th>0</th>\n",
       "      <td>4.2</td>\n",
       "      <td>The Westin, Mundhwa</td>\n",
       "    </tr>\n",
       "    <tr>\n",
       "      <th>1</th>\n",
       "      <td>4.1</td>\n",
       "      <td>The Westin, Mundhwa</td>\n",
       "    </tr>\n",
       "    <tr>\n",
       "      <th>2</th>\n",
       "      <td>4.5</td>\n",
       "      <td>Conrad Pune, Bund Garden Road</td>\n",
       "    </tr>\n",
       "    <tr>\n",
       "      <th>3</th>\n",
       "      <td>4.0</td>\n",
       "      <td>The Westin, Mundhwa</td>\n",
       "    </tr>\n",
       "    <tr>\n",
       "      <th>4</th>\n",
       "      <td>3.9</td>\n",
       "      <td>Vivanta Pune, Hinjewadi</td>\n",
       "    </tr>\n",
       "    <tr>\n",
       "      <th>...</th>\n",
       "      <td>...</td>\n",
       "      <td>...</td>\n",
       "    </tr>\n",
       "    <tr>\n",
       "      <th>5428</th>\n",
       "      <td>3.1</td>\n",
       "      <td>Sinhgad Road</td>\n",
       "    </tr>\n",
       "    <tr>\n",
       "      <th>5429</th>\n",
       "      <td>2.9</td>\n",
       "      <td>Viman Nagar</td>\n",
       "    </tr>\n",
       "    <tr>\n",
       "      <th>5430</th>\n",
       "      <td>3.8</td>\n",
       "      <td>Pimpri</td>\n",
       "    </tr>\n",
       "    <tr>\n",
       "      <th>5431</th>\n",
       "      <td>3.1</td>\n",
       "      <td>Sadashiv Peth</td>\n",
       "    </tr>\n",
       "    <tr>\n",
       "      <th>5432</th>\n",
       "      <td>3.6</td>\n",
       "      <td>B.T. Kawade Road</td>\n",
       "    </tr>\n",
       "  </tbody>\n",
       "</table>\n",
       "<p>5433 rows × 2 columns</p>\n",
       "</div>"
      ],
      "text/plain": [
       "      dine_rating                            loc\n",
       "0             4.2            The Westin, Mundhwa\n",
       "1             4.1            The Westin, Mundhwa\n",
       "2             4.5  Conrad Pune, Bund Garden Road\n",
       "3             4.0            The Westin, Mundhwa\n",
       "4             3.9        Vivanta Pune, Hinjewadi\n",
       "...           ...                            ...\n",
       "5428          3.1                   Sinhgad Road\n",
       "5429          2.9                    Viman Nagar\n",
       "5430          3.8                         Pimpri\n",
       "5431          3.1                  Sadashiv Peth\n",
       "5432          3.6               B.T. Kawade Road\n",
       "\n",
       "[5433 rows x 2 columns]"
      ]
     },
     "execution_count": 4,
     "metadata": {},
     "output_type": "execute_result"
    }
   ],
   "source": [
    "df_locations=df[['dine_rating','loc']]\n",
    "df_locations"
   ]
  },
  {
   "cell_type": "code",
   "execution_count": 5,
   "metadata": {},
   "outputs": [
    {
     "data": {
      "text/html": [
       "<div>\n",
       "<style scoped>\n",
       "    .dataframe tbody tr th:only-of-type {\n",
       "        vertical-align: middle;\n",
       "    }\n",
       "\n",
       "    .dataframe tbody tr th {\n",
       "        vertical-align: top;\n",
       "    }\n",
       "\n",
       "    .dataframe thead th {\n",
       "        text-align: right;\n",
       "    }\n",
       "</style>\n",
       "<table border=\"1\" class=\"dataframe\">\n",
       "  <thead>\n",
       "    <tr style=\"text-align: right;\">\n",
       "      <th></th>\n",
       "      <th>dine_rating</th>\n",
       "      <th>loc</th>\n",
       "    </tr>\n",
       "  </thead>\n",
       "  <tbody>\n",
       "    <tr>\n",
       "      <th>2</th>\n",
       "      <td>4.5</td>\n",
       "      <td>Conrad Pune, Bund Garden Road</td>\n",
       "    </tr>\n",
       "    <tr>\n",
       "      <th>5</th>\n",
       "      <td>4.5</td>\n",
       "      <td>Hyatt Pune, Nagar Road</td>\n",
       "    </tr>\n",
       "    <tr>\n",
       "      <th>8</th>\n",
       "      <td>4.5</td>\n",
       "      <td>Sheraton Grand, Bund Garden Road</td>\n",
       "    </tr>\n",
       "    <tr>\n",
       "      <th>18</th>\n",
       "      <td>4.3</td>\n",
       "      <td>The Hyatt Regency, Nagar Road</td>\n",
       "    </tr>\n",
       "    <tr>\n",
       "      <th>21</th>\n",
       "      <td>4.8</td>\n",
       "      <td>JW Marriott Pune, Senapati Bapat Road</td>\n",
       "    </tr>\n",
       "    <tr>\n",
       "      <th>22</th>\n",
       "      <td>4.3</td>\n",
       "      <td>Crowne Plaza Pune City Centre, Bund Garden Road</td>\n",
       "    </tr>\n",
       "    <tr>\n",
       "      <th>25</th>\n",
       "      <td>4.4</td>\n",
       "      <td>JW Marriott Pune, Senapati Bapat Road</td>\n",
       "    </tr>\n",
       "    <tr>\n",
       "      <th>29</th>\n",
       "      <td>4.3</td>\n",
       "      <td>Blue Diamond, Koregaon Park</td>\n",
       "    </tr>\n",
       "    <tr>\n",
       "      <th>38</th>\n",
       "      <td>4.8</td>\n",
       "      <td>Koregaon Park</td>\n",
       "    </tr>\n",
       "    <tr>\n",
       "      <th>39</th>\n",
       "      <td>4.6</td>\n",
       "      <td>Mundhwa</td>\n",
       "    </tr>\n",
       "    <tr>\n",
       "      <th>40</th>\n",
       "      <td>4.3</td>\n",
       "      <td>Vivanta Pune, Hinjewadi</td>\n",
       "    </tr>\n",
       "    <tr>\n",
       "      <th>42</th>\n",
       "      <td>4.5</td>\n",
       "      <td>JW Marriott Pune, Senapati Bapat Road</td>\n",
       "    </tr>\n",
       "    <tr>\n",
       "      <th>43</th>\n",
       "      <td>4.4</td>\n",
       "      <td>East Street</td>\n",
       "    </tr>\n",
       "    <tr>\n",
       "      <th>49</th>\n",
       "      <td>4.9</td>\n",
       "      <td>Koregaon Park</td>\n",
       "    </tr>\n",
       "    <tr>\n",
       "      <th>52</th>\n",
       "      <td>4.4</td>\n",
       "      <td>Marriott Suites Pune</td>\n",
       "    </tr>\n",
       "    <tr>\n",
       "      <th>53</th>\n",
       "      <td>4.4</td>\n",
       "      <td>Della Adventure Resort</td>\n",
       "    </tr>\n",
       "    <tr>\n",
       "      <th>58</th>\n",
       "      <td>4.7</td>\n",
       "      <td>Baner</td>\n",
       "    </tr>\n",
       "    <tr>\n",
       "      <th>61</th>\n",
       "      <td>4.5</td>\n",
       "      <td>Bund Garden Road</td>\n",
       "    </tr>\n",
       "    <tr>\n",
       "      <th>63</th>\n",
       "      <td>4.5</td>\n",
       "      <td>Shivaji Nagar</td>\n",
       "    </tr>\n",
       "    <tr>\n",
       "      <th>65</th>\n",
       "      <td>4.4</td>\n",
       "      <td>ABC Farms,Mundhwa</td>\n",
       "    </tr>\n",
       "  </tbody>\n",
       "</table>\n",
       "</div>"
      ],
      "text/plain": [
       "    dine_rating                                              loc\n",
       "2           4.5                    Conrad Pune, Bund Garden Road\n",
       "5           4.5                           Hyatt Pune, Nagar Road\n",
       "8           4.5                 Sheraton Grand, Bund Garden Road\n",
       "18          4.3                    The Hyatt Regency, Nagar Road\n",
       "21          4.8            JW Marriott Pune, Senapati Bapat Road\n",
       "22          4.3  Crowne Plaza Pune City Centre, Bund Garden Road\n",
       "25          4.4            JW Marriott Pune, Senapati Bapat Road\n",
       "29          4.3                      Blue Diamond, Koregaon Park\n",
       "38          4.8                                    Koregaon Park\n",
       "39          4.6                                          Mundhwa\n",
       "40          4.3                          Vivanta Pune, Hinjewadi\n",
       "42          4.5            JW Marriott Pune, Senapati Bapat Road\n",
       "43          4.4                                      East Street\n",
       "49          4.9                                    Koregaon Park\n",
       "52          4.4                             Marriott Suites Pune\n",
       "53          4.4                           Della Adventure Resort\n",
       "58          4.7                                            Baner\n",
       "61          4.5                                 Bund Garden Road\n",
       "63          4.5                                    Shivaji Nagar\n",
       "65          4.4                                ABC Farms,Mundhwa"
      ]
     },
     "execution_count": 5,
     "metadata": {},
     "output_type": "execute_result"
    }
   ],
   "source": [
    "best_rest=df_locations[df_locations[\"dine_rating\"]>4.2]\n",
    "best_rest.head(20)\n",
    "#best_rest is the dataframe in which i have 2 columns dine_rating and loc and only\n",
    "#those restaurants are there where dine_rating>4.2."
   ]
  },
  {
   "cell_type": "code",
   "execution_count": 6,
   "metadata": {},
   "outputs": [
    {
     "data": {
      "text/plain": [
       "(455, 2)"
      ]
     },
     "execution_count": 6,
     "metadata": {},
     "output_type": "execute_result"
    }
   ],
   "source": [
    "best_rest.shape"
   ]
  },
  {
   "cell_type": "code",
   "execution_count": 8,
   "metadata": {},
   "outputs": [
    {
     "name": "stdout",
     "output_type": "stream",
     "text": [
      "<pandas.core.groupby.generic.DataFrameGroupBy object at 0x000001DCCCC874D0>\n"
     ]
    }
   ],
   "source": [
    "a=best_rest.groupby(\"loc\")\n",
    "print(a)"
   ]
  },
  {
   "cell_type": "code",
   "execution_count": 9,
   "metadata": {},
   "outputs": [
    {
     "name": "stdout",
     "output_type": "stream",
     "text": [
      "loc\n",
      "ABC Farms,Mundhwa                 2\n",
      "Akurdi                            1\n",
      "Amanora Town Centre, Hadapsar     4\n",
      "Aundh                            17\n",
      "Balewadi                          3\n",
      "                                 ..\n",
      "Wagholi                           1\n",
      "Wakad                            12\n",
      "Wanowrie                          2\n",
      "Warje                             1\n",
      "Yerawada                          1\n",
      "Length: 91, dtype: int64\n",
      "<class 'pandas.core.series.Series'>\n"
     ]
    }
   ],
   "source": [
    "location_wise_best_Restaurant=a.size()\n",
    "print(location_wise_best_Restaurant)\n",
    "print(type(location_wise_best_Restaurant))"
   ]
  },
  {
   "cell_type": "code",
   "execution_count": 10,
   "metadata": {
    "scrolled": true
   },
   "outputs": [
    {
     "data": {
      "text/plain": [
       "loc\n",
       "Koregaon Park    50\n",
       "Kothrud          27\n",
       "Baner            25\n",
       "Kalyani Nagar    23\n",
       "Viman Nagar      22\n",
       "Aundh            17\n",
       "Erandwane        16\n",
       "Wakad            12\n",
       "FC Road          11\n",
       "Ravet            10\n",
       "dtype: int64"
      ]
     },
     "execution_count": 10,
     "metadata": {},
     "output_type": "execute_result"
    }
   ],
   "source": [
    "location_wise_best=location_wise_best_Restaurant.sort_values(ascending=False)\n",
    "a=location_wise_best[:10]\n",
    "\n",
    "a"
   ]
  },
  {
   "cell_type": "code",
   "execution_count": 11,
   "metadata": {},
   "outputs": [
    {
     "data": {
      "text/plain": [
       "<Axes: ylabel='loc'>"
      ]
     },
     "execution_count": 11,
     "metadata": {},
     "output_type": "execute_result"
    },
    {
     "data": {
      "image/png": "[encoded data removed]",
      "text/plain": [
       "<Figure size 640x480 with 1 Axes>"
      ]
     },
     "metadata": {},
     "output_type": "display_data"
    }
   ],
   "source": [
    "#bar plot\n",
    "\n",
    "sns.barplot(x=a,y=a.index)\n",
    "\n"
   ]
  },
  {
   "cell_type": "code",
   "execution_count": 13,
   "metadata": {},
   "outputs": [],
   "source": [
    "#total number of restaurant by location\n",
    "\n",
    "Number_of_location=df[['loc','dine_rating']]\n",
    "a=Number_of_location.groupby(\"loc\")\n",
    "rest_per_location=a.size()\n",
    "\n"
   ]
  },
  {
   "cell_type": "code",
   "execution_count": 14,
   "metadata": {},
   "outputs": [
    {
     "data": {
      "text/plain": [
       "loc\n",
       "Kothrud                           273\n",
       "Viman Nagar                       241\n",
       "Wakad                             235\n",
       "Baner                             234\n",
       "Hinjawadi                         225\n",
       "                                 ... \n",
       "Rahul Complex, Kothrud              1\n",
       "Bopkhel                             1\n",
       "St Laurn Hotel, Koregaon Park       1\n",
       "Super Mall                          1\n",
       " Hotel Satish Executive, Wakad      1\n",
       "Length: 193, dtype: int64"
      ]
     },
     "execution_count": 14,
     "metadata": {},
     "output_type": "execute_result"
    }
   ],
   "source": [
    "rest_per_location=rest_per_location.sort_values(ascending=False)\n",
    "rest_per_location"
   ]
  },
  {
   "cell_type": "code",
   "execution_count": 15,
   "metadata": {},
   "outputs": [
    {
     "data": {
      "text/plain": [
       "loc\n",
       "Kothrud            273\n",
       "Viman Nagar        241\n",
       "Wakad              235\n",
       "Baner              234\n",
       "Hinjawadi          225\n",
       "Hadapsar           196\n",
       "Kharadi            194\n",
       "Sinhgad Road       147\n",
       "Pimple Saudagar    141\n",
       "Koregaon Park      130\n",
       "dtype: int64"
      ]
     },
     "execution_count": 15,
     "metadata": {},
     "output_type": "execute_result"
    }
   ],
   "source": [
    "rest_per_location[:10]"
   ]
  },
  {
   "cell_type": "code",
   "execution_count": 16,
   "metadata": {},
   "outputs": [],
   "source": [
    "#now we want to find \n",
    "#(number of rest which got more than 4.2/ total number of rest) per location\n",
    "#we are concatinating two series together\n",
    "frames=[rest_per_location,location_wise_best]\n",
    "\n",
    "data_n=pd.concat(\n",
    "    frames,\n",
    "    axis=1,\n",
    "    join=\"inner\",\n",
    "    ignore_index=False,\n",
    "    copy=True,\n",
    ")\n"
   ]
  },
  {
   "cell_type": "code",
   "execution_count": 17,
   "metadata": {},
   "outputs": [
    {
     "data": {
      "text/html": [
       "<div>\n",
       "<style scoped>\n",
       "    .dataframe tbody tr th:only-of-type {\n",
       "        vertical-align: middle;\n",
       "    }\n",
       "\n",
       "    .dataframe tbody tr th {\n",
       "        vertical-align: top;\n",
       "    }\n",
       "\n",
       "    .dataframe thead th {\n",
       "        text-align: right;\n",
       "    }\n",
       "</style>\n",
       "<table border=\"1\" class=\"dataframe\">\n",
       "  <thead>\n",
       "    <tr style=\"text-align: right;\">\n",
       "      <th></th>\n",
       "      <th>0</th>\n",
       "      <th>1</th>\n",
       "    </tr>\n",
       "    <tr>\n",
       "      <th>loc</th>\n",
       "      <th></th>\n",
       "      <th></th>\n",
       "    </tr>\n",
       "  </thead>\n",
       "  <tbody>\n",
       "    <tr>\n",
       "      <th>Kothrud</th>\n",
       "      <td>273</td>\n",
       "      <td>27</td>\n",
       "    </tr>\n",
       "    <tr>\n",
       "      <th>Viman Nagar</th>\n",
       "      <td>241</td>\n",
       "      <td>22</td>\n",
       "    </tr>\n",
       "    <tr>\n",
       "      <th>Wakad</th>\n",
       "      <td>235</td>\n",
       "      <td>12</td>\n",
       "    </tr>\n",
       "    <tr>\n",
       "      <th>Baner</th>\n",
       "      <td>234</td>\n",
       "      <td>25</td>\n",
       "    </tr>\n",
       "    <tr>\n",
       "      <th>Hinjawadi</th>\n",
       "      <td>225</td>\n",
       "      <td>7</td>\n",
       "    </tr>\n",
       "    <tr>\n",
       "      <th>...</th>\n",
       "      <td>...</td>\n",
       "      <td>...</td>\n",
       "    </tr>\n",
       "    <tr>\n",
       "      <th>The Mills, Bund Garden Road</th>\n",
       "      <td>1</td>\n",
       "      <td>1</td>\n",
       "    </tr>\n",
       "    <tr>\n",
       "      <th>The E-Square Hotel, Shivaji Nagar</th>\n",
       "      <td>1</td>\n",
       "      <td>1</td>\n",
       "    </tr>\n",
       "    <tr>\n",
       "      <th>Creaticity Mall, Yerawada</th>\n",
       "      <td>1</td>\n",
       "      <td>1</td>\n",
       "    </tr>\n",
       "    <tr>\n",
       "      <th>Panchshil Tech Park, Yerawada</th>\n",
       "      <td>1</td>\n",
       "      <td>1</td>\n",
       "    </tr>\n",
       "    <tr>\n",
       "      <th>Parichay Hotel, FC Road</th>\n",
       "      <td>1</td>\n",
       "      <td>1</td>\n",
       "    </tr>\n",
       "  </tbody>\n",
       "</table>\n",
       "<p>91 rows × 2 columns</p>\n",
       "</div>"
      ],
      "text/plain": [
       "                                     0   1\n",
       "loc                                       \n",
       "Kothrud                            273  27\n",
       "Viman Nagar                        241  22\n",
       "Wakad                              235  12\n",
       "Baner                              234  25\n",
       "Hinjawadi                          225   7\n",
       "...                                ...  ..\n",
       "The Mills, Bund Garden Road          1   1\n",
       "The E-Square Hotel, Shivaji Nagar    1   1\n",
       "Creaticity Mall, Yerawada            1   1\n",
       "Panchshil Tech Park, Yerawada        1   1\n",
       "Parichay Hotel, FC Road              1   1\n",
       "\n",
       "[91 rows x 2 columns]"
      ]
     },
     "execution_count": 17,
     "metadata": {},
     "output_type": "execute_result"
    }
   ],
   "source": [
    "data_n"
   ]
  },
  {
   "cell_type": "code",
   "execution_count": 18,
   "metadata": {},
   "outputs": [
    {
     "data": {
      "text/plain": [
       "loc\n",
       "Kothrud                              273\n",
       "Viman Nagar                          241\n",
       "Wakad                                235\n",
       "Baner                                234\n",
       "Hinjawadi                            225\n",
       "                                    ... \n",
       "The Mills, Bund Garden Road            1\n",
       "The E-Square Hotel, Shivaji Nagar      1\n",
       "Creaticity Mall, Yerawada              1\n",
       "Panchshil Tech Park, Yerawada          1\n",
       "Parichay Hotel, FC Road                1\n",
       "Name: 0, Length: 91, dtype: int64"
      ]
     },
     "execution_count": 18,
     "metadata": {},
     "output_type": "execute_result"
    }
   ],
   "source": [
    "data_n[0]"
   ]
  },
  {
   "cell_type": "code",
   "execution_count": 19,
   "metadata": {},
   "outputs": [
    {
     "name": "stdout",
     "output_type": "stream",
     "text": [
      "91\n"
     ]
    }
   ],
   "source": [
    "print(len(data_n[0].values))"
   ]
  },
  {
   "cell_type": "code",
   "execution_count": 20,
   "metadata": {},
   "outputs": [],
   "source": [
    "#lambda\n",
    "\n",
    "a=lambda x,y:x+y\n",
    "#map function"
   ]
  },
  {
   "cell_type": "code",
   "execution_count": 21,
   "metadata": {},
   "outputs": [],
   "source": [
    "def new(t):\n",
    "    return (t[1]/t[0])*100\n",
    "data_n['popularity_percentage']=list(map(new, zip(data_n[0], data_n[1])))\n"
   ]
  },
  {
   "cell_type": "code",
   "execution_count": 22,
   "metadata": {},
   "outputs": [
    {
     "data": {
      "text/html": [
       "<div>\n",
       "<style scoped>\n",
       "    .dataframe tbody tr th:only-of-type {\n",
       "        vertical-align: middle;\n",
       "    }\n",
       "\n",
       "    .dataframe tbody tr th {\n",
       "        vertical-align: top;\n",
       "    }\n",
       "\n",
       "    .dataframe thead th {\n",
       "        text-align: right;\n",
       "    }\n",
       "</style>\n",
       "<table border=\"1\" class=\"dataframe\">\n",
       "  <thead>\n",
       "    <tr style=\"text-align: right;\">\n",
       "      <th></th>\n",
       "      <th>0</th>\n",
       "      <th>1</th>\n",
       "      <th>popularity_percentage</th>\n",
       "    </tr>\n",
       "    <tr>\n",
       "      <th>loc</th>\n",
       "      <th></th>\n",
       "      <th></th>\n",
       "      <th></th>\n",
       "    </tr>\n",
       "  </thead>\n",
       "  <tbody>\n",
       "    <tr>\n",
       "      <th>Kothrud</th>\n",
       "      <td>273</td>\n",
       "      <td>27</td>\n",
       "      <td>9.890110</td>\n",
       "    </tr>\n",
       "    <tr>\n",
       "      <th>Viman Nagar</th>\n",
       "      <td>241</td>\n",
       "      <td>22</td>\n",
       "      <td>9.128631</td>\n",
       "    </tr>\n",
       "    <tr>\n",
       "      <th>Wakad</th>\n",
       "      <td>235</td>\n",
       "      <td>12</td>\n",
       "      <td>5.106383</td>\n",
       "    </tr>\n",
       "    <tr>\n",
       "      <th>Baner</th>\n",
       "      <td>234</td>\n",
       "      <td>25</td>\n",
       "      <td>10.683761</td>\n",
       "    </tr>\n",
       "    <tr>\n",
       "      <th>Hinjawadi</th>\n",
       "      <td>225</td>\n",
       "      <td>7</td>\n",
       "      <td>3.111111</td>\n",
       "    </tr>\n",
       "    <tr>\n",
       "      <th>...</th>\n",
       "      <td>...</td>\n",
       "      <td>...</td>\n",
       "      <td>...</td>\n",
       "    </tr>\n",
       "    <tr>\n",
       "      <th>The Mills, Bund Garden Road</th>\n",
       "      <td>1</td>\n",
       "      <td>1</td>\n",
       "      <td>100.000000</td>\n",
       "    </tr>\n",
       "    <tr>\n",
       "      <th>The E-Square Hotel, Shivaji Nagar</th>\n",
       "      <td>1</td>\n",
       "      <td>1</td>\n",
       "      <td>100.000000</td>\n",
       "    </tr>\n",
       "    <tr>\n",
       "      <th>Creaticity Mall, Yerawada</th>\n",
       "      <td>1</td>\n",
       "      <td>1</td>\n",
       "      <td>100.000000</td>\n",
       "    </tr>\n",
       "    <tr>\n",
       "      <th>Panchshil Tech Park, Yerawada</th>\n",
       "      <td>1</td>\n",
       "      <td>1</td>\n",
       "      <td>100.000000</td>\n",
       "    </tr>\n",
       "    <tr>\n",
       "      <th>Parichay Hotel, FC Road</th>\n",
       "      <td>1</td>\n",
       "      <td>1</td>\n",
       "      <td>100.000000</td>\n",
       "    </tr>\n",
       "  </tbody>\n",
       "</table>\n",
       "<p>91 rows × 3 columns</p>\n",
       "</div>"
      ],
      "text/plain": [
       "                                     0   1  popularity_percentage\n",
       "loc                                                              \n",
       "Kothrud                            273  27               9.890110\n",
       "Viman Nagar                        241  22               9.128631\n",
       "Wakad                              235  12               5.106383\n",
       "Baner                              234  25              10.683761\n",
       "Hinjawadi                          225   7               3.111111\n",
       "...                                ...  ..                    ...\n",
       "The Mills, Bund Garden Road          1   1             100.000000\n",
       "The E-Square Hotel, Shivaji Nagar    1   1             100.000000\n",
       "Creaticity Mall, Yerawada            1   1             100.000000\n",
       "Panchshil Tech Park, Yerawada        1   1             100.000000\n",
       "Parichay Hotel, FC Road              1   1             100.000000\n",
       "\n",
       "[91 rows x 3 columns]"
      ]
     },
     "execution_count": 22,
     "metadata": {},
     "output_type": "execute_result"
    }
   ],
   "source": [
    "data_n"
   ]
  },
  {
   "cell_type": "code",
   "execution_count": 23,
   "metadata": {},
   "outputs": [],
   "source": [
    "data_updated=data_n[data_n[0]>100]"
   ]
  },
  {
   "cell_type": "code",
   "execution_count": 24,
   "metadata": {},
   "outputs": [
    {
     "data": {
      "text/html": [
       "<div>\n",
       "<style scoped>\n",
       "    .dataframe tbody tr th:only-of-type {\n",
       "        vertical-align: middle;\n",
       "    }\n",
       "\n",
       "    .dataframe tbody tr th {\n",
       "        vertical-align: top;\n",
       "    }\n",
       "\n",
       "    .dataframe thead th {\n",
       "        text-align: right;\n",
       "    }\n",
       "</style>\n",
       "<table border=\"1\" class=\"dataframe\">\n",
       "  <thead>\n",
       "    <tr style=\"text-align: right;\">\n",
       "      <th></th>\n",
       "      <th>0</th>\n",
       "      <th>1</th>\n",
       "      <th>popularity_percentage</th>\n",
       "    </tr>\n",
       "    <tr>\n",
       "      <th>loc</th>\n",
       "      <th></th>\n",
       "      <th></th>\n",
       "      <th></th>\n",
       "    </tr>\n",
       "  </thead>\n",
       "  <tbody>\n",
       "    <tr>\n",
       "      <th>Kothrud</th>\n",
       "      <td>273</td>\n",
       "      <td>27</td>\n",
       "      <td>9.890110</td>\n",
       "    </tr>\n",
       "    <tr>\n",
       "      <th>Viman Nagar</th>\n",
       "      <td>241</td>\n",
       "      <td>22</td>\n",
       "      <td>9.128631</td>\n",
       "    </tr>\n",
       "    <tr>\n",
       "      <th>Wakad</th>\n",
       "      <td>235</td>\n",
       "      <td>12</td>\n",
       "      <td>5.106383</td>\n",
       "    </tr>\n",
       "    <tr>\n",
       "      <th>Baner</th>\n",
       "      <td>234</td>\n",
       "      <td>25</td>\n",
       "      <td>10.683761</td>\n",
       "    </tr>\n",
       "    <tr>\n",
       "      <th>Hinjawadi</th>\n",
       "      <td>225</td>\n",
       "      <td>7</td>\n",
       "      <td>3.111111</td>\n",
       "    </tr>\n",
       "    <tr>\n",
       "      <th>Hadapsar</th>\n",
       "      <td>196</td>\n",
       "      <td>3</td>\n",
       "      <td>1.530612</td>\n",
       "    </tr>\n",
       "    <tr>\n",
       "      <th>Kharadi</th>\n",
       "      <td>194</td>\n",
       "      <td>8</td>\n",
       "      <td>4.123711</td>\n",
       "    </tr>\n",
       "    <tr>\n",
       "      <th>Sinhgad Road</th>\n",
       "      <td>147</td>\n",
       "      <td>6</td>\n",
       "      <td>4.081633</td>\n",
       "    </tr>\n",
       "    <tr>\n",
       "      <th>Pimple Saudagar</th>\n",
       "      <td>141</td>\n",
       "      <td>7</td>\n",
       "      <td>4.964539</td>\n",
       "    </tr>\n",
       "    <tr>\n",
       "      <th>Koregaon Park</th>\n",
       "      <td>130</td>\n",
       "      <td>50</td>\n",
       "      <td>38.461538</td>\n",
       "    </tr>\n",
       "    <tr>\n",
       "      <th>Aundh</th>\n",
       "      <td>119</td>\n",
       "      <td>17</td>\n",
       "      <td>14.285714</td>\n",
       "    </tr>\n",
       "    <tr>\n",
       "      <th>Chinchwad</th>\n",
       "      <td>118</td>\n",
       "      <td>2</td>\n",
       "      <td>1.694915</td>\n",
       "    </tr>\n",
       "    <tr>\n",
       "      <th>Kondhwa</th>\n",
       "      <td>111</td>\n",
       "      <td>4</td>\n",
       "      <td>3.603604</td>\n",
       "    </tr>\n",
       "    <tr>\n",
       "      <th>Katraj</th>\n",
       "      <td>103</td>\n",
       "      <td>5</td>\n",
       "      <td>4.854369</td>\n",
       "    </tr>\n",
       "  </tbody>\n",
       "</table>\n",
       "</div>"
      ],
      "text/plain": [
       "                   0   1  popularity_percentage\n",
       "loc                                            \n",
       "Kothrud          273  27               9.890110\n",
       "Viman Nagar      241  22               9.128631\n",
       "Wakad            235  12               5.106383\n",
       "Baner            234  25              10.683761\n",
       "Hinjawadi        225   7               3.111111\n",
       "Hadapsar         196   3               1.530612\n",
       "Kharadi          194   8               4.123711\n",
       "Sinhgad Road     147   6               4.081633\n",
       "Pimple Saudagar  141   7               4.964539\n",
       "Koregaon Park    130  50              38.461538\n",
       "Aundh            119  17              14.285714\n",
       "Chinchwad        118   2               1.694915\n",
       "Kondhwa          111   4               3.603604\n",
       "Katraj           103   5               4.854369"
      ]
     },
     "execution_count": 24,
     "metadata": {},
     "output_type": "execute_result"
    }
   ],
   "source": [
    "data_updated"
   ]
  },
  {
   "cell_type": "code",
   "execution_count": 25,
   "metadata": {},
   "outputs": [],
   "source": [
    "data_updated=data_updated.sort_values(by=\"popularity_percentage\",ascending=False)"
   ]
  },
  {
   "cell_type": "code",
   "execution_count": 26,
   "metadata": {},
   "outputs": [
    {
     "data": {
      "text/html": [
       "<div>\n",
       "<style scoped>\n",
       "    .dataframe tbody tr th:only-of-type {\n",
       "        vertical-align: middle;\n",
       "    }\n",
       "\n",
       "    .dataframe tbody tr th {\n",
       "        vertical-align: top;\n",
       "    }\n",
       "\n",
       "    .dataframe thead th {\n",
       "        text-align: right;\n",
       "    }\n",
       "</style>\n",
       "<table border=\"1\" class=\"dataframe\">\n",
       "  <thead>\n",
       "    <tr style=\"text-align: right;\">\n",
       "      <th></th>\n",
       "      <th>0</th>\n",
       "      <th>1</th>\n",
       "      <th>popularity_percentage</th>\n",
       "    </tr>\n",
       "    <tr>\n",
       "      <th>loc</th>\n",
       "      <th></th>\n",
       "      <th></th>\n",
       "      <th></th>\n",
       "    </tr>\n",
       "  </thead>\n",
       "  <tbody>\n",
       "    <tr>\n",
       "      <th>Koregaon Park</th>\n",
       "      <td>130</td>\n",
       "      <td>50</td>\n",
       "      <td>38.461538</td>\n",
       "    </tr>\n",
       "    <tr>\n",
       "      <th>Aundh</th>\n",
       "      <td>119</td>\n",
       "      <td>17</td>\n",
       "      <td>14.285714</td>\n",
       "    </tr>\n",
       "    <tr>\n",
       "      <th>Baner</th>\n",
       "      <td>234</td>\n",
       "      <td>25</td>\n",
       "      <td>10.683761</td>\n",
       "    </tr>\n",
       "    <tr>\n",
       "      <th>Kothrud</th>\n",
       "      <td>273</td>\n",
       "      <td>27</td>\n",
       "      <td>9.890110</td>\n",
       "    </tr>\n",
       "    <tr>\n",
       "      <th>Viman Nagar</th>\n",
       "      <td>241</td>\n",
       "      <td>22</td>\n",
       "      <td>9.128631</td>\n",
       "    </tr>\n",
       "    <tr>\n",
       "      <th>Wakad</th>\n",
       "      <td>235</td>\n",
       "      <td>12</td>\n",
       "      <td>5.106383</td>\n",
       "    </tr>\n",
       "    <tr>\n",
       "      <th>Pimple Saudagar</th>\n",
       "      <td>141</td>\n",
       "      <td>7</td>\n",
       "      <td>4.964539</td>\n",
       "    </tr>\n",
       "    <tr>\n",
       "      <th>Katraj</th>\n",
       "      <td>103</td>\n",
       "      <td>5</td>\n",
       "      <td>4.854369</td>\n",
       "    </tr>\n",
       "    <tr>\n",
       "      <th>Kharadi</th>\n",
       "      <td>194</td>\n",
       "      <td>8</td>\n",
       "      <td>4.123711</td>\n",
       "    </tr>\n",
       "    <tr>\n",
       "      <th>Sinhgad Road</th>\n",
       "      <td>147</td>\n",
       "      <td>6</td>\n",
       "      <td>4.081633</td>\n",
       "    </tr>\n",
       "    <tr>\n",
       "      <th>Kondhwa</th>\n",
       "      <td>111</td>\n",
       "      <td>4</td>\n",
       "      <td>3.603604</td>\n",
       "    </tr>\n",
       "    <tr>\n",
       "      <th>Hinjawadi</th>\n",
       "      <td>225</td>\n",
       "      <td>7</td>\n",
       "      <td>3.111111</td>\n",
       "    </tr>\n",
       "    <tr>\n",
       "      <th>Chinchwad</th>\n",
       "      <td>118</td>\n",
       "      <td>2</td>\n",
       "      <td>1.694915</td>\n",
       "    </tr>\n",
       "    <tr>\n",
       "      <th>Hadapsar</th>\n",
       "      <td>196</td>\n",
       "      <td>3</td>\n",
       "      <td>1.530612</td>\n",
       "    </tr>\n",
       "  </tbody>\n",
       "</table>\n",
       "</div>"
      ],
      "text/plain": [
       "                   0   1  popularity_percentage\n",
       "loc                                            \n",
       "Koregaon Park    130  50              38.461538\n",
       "Aundh            119  17              14.285714\n",
       "Baner            234  25              10.683761\n",
       "Kothrud          273  27               9.890110\n",
       "Viman Nagar      241  22               9.128631\n",
       "Wakad            235  12               5.106383\n",
       "Pimple Saudagar  141   7               4.964539\n",
       "Katraj           103   5               4.854369\n",
       "Kharadi          194   8               4.123711\n",
       "Sinhgad Road     147   6               4.081633\n",
       "Kondhwa          111   4               3.603604\n",
       "Hinjawadi        225   7               3.111111\n",
       "Chinchwad        118   2               1.694915\n",
       "Hadapsar         196   3               1.530612"
      ]
     },
     "execution_count": 26,
     "metadata": {},
     "output_type": "execute_result"
    }
   ],
   "source": [
    "data_updated"
   ]
  },
  {
   "cell_type": "code",
   "execution_count": 28,
   "metadata": {
    "scrolled": false
   },
   "outputs": [
    {
     "data": {
      "text/plain": [
       "<Axes: xlabel='popularity_percentage', ylabel='loc'>"
      ]
     },
     "execution_count": 28,
     "metadata": {},
     "output_type": "execute_result"
    },
    {
     "data": {
      "image/png": "[encoded data removed]",
      "text/plain": [
       "<Figure size 640x480 with 1 Axes>"
      ]
     },
     "metadata": {},
     "output_type": "display_data"
    }
   ],
   "source": [
    "sns.barplot(x=data_updated['popularity_percentage'],y=data_updated.index)"
   ]
  },
  {
   "cell_type": "markdown",
   "metadata": {},
   "source": [
    "These are the best locations in pune where find the high rated restaurants\n",
    "\n",
    "Koregaun Park has the highest popuarity percentage out of all the locations in pune"
   ]
  },
  {
   "cell_type": "markdown",
   "metadata": {},
   "source": [
    "# THE END\n"
   ]
  },
  {
   "cell_type": "code",
   "execution_count": null,
   "metadata": {},
   "outputs": [],
   "source": []
  }
 ],
 "metadata": {
  "kernelspec": {
   "display_name": "Python 3 (ipykernel)",
   "language": "python",
   "name": "python3"
  },
  "language_info": {
   "codemirror_mode": {
    "name": "ipython",
    "version": 3
   },
   "file_extension": ".py",
   "mimetype": "text/x-python",
   "name": "python",
   "nbconvert_exporter": "python",
   "pygments_lexer": "ipython3",
   "version": "3.11.3"
  }
 },
 "nbformat": 4,
 "nbformat_minor": 4
}
